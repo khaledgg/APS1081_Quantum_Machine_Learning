{
 "cells": [
  {
   "attachments": {},
   "cell_type": "markdown",
   "metadata": {},
   "source": [
    "# Assignment 2 - Khaled Gaber 1004144302"
   ]
  },
  {
   "attachments": {},
   "cell_type": "markdown",
   "metadata": {},
   "source": [
    "# Required Installations"
   ]
  },
  {
   "cell_type": "code",
   "execution_count": 179,
   "metadata": {},
   "outputs": [
    {
     "name": "stdout",
     "output_type": "stream",
     "text": [
      "Looking in indexes: https://pypi.org/simple, https://pypi.ngc.nvidia.com\n",
      "Requirement already satisfied: qiskit in c:\\users\\khale\\appdata\\local\\packages\\pythonsoftwarefoundation.python.3.9_qbz5n2kfra8p0\\localcache\\local-packages\\python39\\site-packages (0.43.1)\n",
      "Requirement already satisfied: qiskit-terra==0.24.1 in c:\\users\\khale\\appdata\\local\\packages\\pythonsoftwarefoundation.python.3.9_qbz5n2kfra8p0\\localcache\\local-packages\\python39\\site-packages (from qiskit) (0.24.1)\n",
      "Requirement already satisfied: qiskit-ibmq-provider==0.20.2 in c:\\users\\khale\\appdata\\local\\packages\\pythonsoftwarefoundation.python.3.9_qbz5n2kfra8p0\\localcache\\local-packages\\python39\\site-packages (from qiskit) (0.20.2)\n",
      "Requirement already satisfied: qiskit-aer==0.12.0 in c:\\users\\khale\\appdata\\local\\packages\\pythonsoftwarefoundation.python.3.9_qbz5n2kfra8p0\\localcache\\local-packages\\python39\\site-packages (from qiskit) (0.12.0)\n",
      "Requirement already satisfied: numpy>=1.16.3 in c:\\users\\khale\\appdata\\local\\packages\\pythonsoftwarefoundation.python.3.9_qbz5n2kfra8p0\\localcache\\local-packages\\python39\\site-packages (from qiskit-aer==0.12.0->qiskit) (1.23.4)\n",
      "Requirement already satisfied: scipy>=1.0 in c:\\users\\khale\\appdata\\local\\packages\\pythonsoftwarefoundation.python.3.9_qbz5n2kfra8p0\\localcache\\local-packages\\python39\\site-packages (from qiskit-aer==0.12.0->qiskit) (1.9.3)\n",
      "Requirement already satisfied: requests>=2.19 in c:\\users\\khale\\appdata\\local\\packages\\pythonsoftwarefoundation.python.3.9_qbz5n2kfra8p0\\localcache\\local-packages\\python39\\site-packages (from qiskit-ibmq-provider==0.20.2->qiskit) (2.28.2)\n",
      "Requirement already satisfied: websockets>=10.0 in c:\\users\\khale\\appdata\\local\\packages\\pythonsoftwarefoundation.python.3.9_qbz5n2kfra8p0\\localcache\\local-packages\\python39\\site-packages (from qiskit-ibmq-provider==0.20.2->qiskit) (11.0.3)\n",
      "Requirement already satisfied: requests-ntlm<=1.1.0 in c:\\users\\khale\\appdata\\local\\packages\\pythonsoftwarefoundation.python.3.9_qbz5n2kfra8p0\\localcache\\local-packages\\python39\\site-packages (from qiskit-ibmq-provider==0.20.2->qiskit) (1.1.0)\n",
      "Requirement already satisfied: urllib3>=1.21.1 in c:\\users\\khale\\appdata\\local\\packages\\pythonsoftwarefoundation.python.3.9_qbz5n2kfra8p0\\localcache\\local-packages\\python39\\site-packages (from qiskit-ibmq-provider==0.20.2->qiskit) (1.26.12)\n",
      "Requirement already satisfied: python-dateutil>=2.8.0 in c:\\users\\khale\\appdata\\local\\packages\\pythonsoftwarefoundation.python.3.9_qbz5n2kfra8p0\\localcache\\local-packages\\python39\\site-packages (from qiskit-ibmq-provider==0.20.2->qiskit) (2.8.2)\n",
      "Requirement already satisfied: websocket-client>=1.5.1 in c:\\users\\khale\\appdata\\local\\packages\\pythonsoftwarefoundation.python.3.9_qbz5n2kfra8p0\\localcache\\local-packages\\python39\\site-packages (from qiskit-ibmq-provider==0.20.2->qiskit) (1.5.3)\n",
      "Requirement already satisfied: rustworkx>=0.12.0 in c:\\users\\khale\\appdata\\local\\packages\\pythonsoftwarefoundation.python.3.9_qbz5n2kfra8p0\\localcache\\local-packages\\python39\\site-packages (from qiskit-terra==0.24.1->qiskit) (0.13.0)\n",
      "Requirement already satisfied: dill>=0.3 in c:\\users\\khale\\appdata\\local\\packages\\pythonsoftwarefoundation.python.3.9_qbz5n2kfra8p0\\localcache\\local-packages\\python39\\site-packages (from qiskit-terra==0.24.1->qiskit) (0.3.6)\n",
      "Requirement already satisfied: sympy>=1.3 in c:\\users\\khale\\appdata\\local\\packages\\pythonsoftwarefoundation.python.3.9_qbz5n2kfra8p0\\localcache\\local-packages\\python39\\site-packages (from qiskit-terra==0.24.1->qiskit) (1.12)\n",
      "Requirement already satisfied: stevedore>=3.0.0 in c:\\users\\khale\\appdata\\local\\packages\\pythonsoftwarefoundation.python.3.9_qbz5n2kfra8p0\\localcache\\local-packages\\python39\\site-packages (from qiskit-terra==0.24.1->qiskit) (5.1.0)\n",
      "Requirement already satisfied: ply>=3.10 in c:\\users\\khale\\appdata\\local\\packages\\pythonsoftwarefoundation.python.3.9_qbz5n2kfra8p0\\localcache\\local-packages\\python39\\site-packages (from qiskit-terra==0.24.1->qiskit) (3.11)\n",
      "Requirement already satisfied: psutil>=5 in c:\\users\\khale\\appdata\\local\\packages\\pythonsoftwarefoundation.python.3.9_qbz5n2kfra8p0\\localcache\\local-packages\\python39\\site-packages (from qiskit-terra==0.24.1->qiskit) (5.9.4)\n",
      "Requirement already satisfied: six>=1.5 in c:\\users\\khale\\appdata\\local\\packages\\pythonsoftwarefoundation.python.3.9_qbz5n2kfra8p0\\localcache\\local-packages\\python39\\site-packages (from python-dateutil>=2.8.0->qiskit-ibmq-provider==0.20.2->qiskit) (1.16.0)\n",
      "Requirement already satisfied: charset-normalizer<4,>=2 in c:\\users\\khale\\appdata\\local\\packages\\pythonsoftwarefoundation.python.3.9_qbz5n2kfra8p0\\localcache\\local-packages\\python39\\site-packages (from requests>=2.19->qiskit-ibmq-provider==0.20.2->qiskit) (2.1.1)\n",
      "Requirement already satisfied: idna<4,>=2.5 in c:\\users\\khale\\appdata\\local\\packages\\pythonsoftwarefoundation.python.3.9_qbz5n2kfra8p0\\localcache\\local-packages\\python39\\site-packages (from requests>=2.19->qiskit-ibmq-provider==0.20.2->qiskit) (3.4)\n",
      "Requirement already satisfied: certifi>=2017.4.17 in c:\\users\\khale\\appdata\\local\\packages\\pythonsoftwarefoundation.python.3.9_qbz5n2kfra8p0\\localcache\\local-packages\\python39\\site-packages (from requests>=2.19->qiskit-ibmq-provider==0.20.2->qiskit) (2022.9.24)\n",
      "Requirement already satisfied: cryptography>=1.3 in c:\\users\\khale\\appdata\\local\\packages\\pythonsoftwarefoundation.python.3.9_qbz5n2kfra8p0\\localcache\\local-packages\\python39\\site-packages (from requests-ntlm<=1.1.0->qiskit-ibmq-provider==0.20.2->qiskit) (41.0.1)\n",
      "Requirement already satisfied: ntlm-auth>=1.0.2 in c:\\users\\khale\\appdata\\local\\packages\\pythonsoftwarefoundation.python.3.9_qbz5n2kfra8p0\\localcache\\local-packages\\python39\\site-packages (from requests-ntlm<=1.1.0->qiskit-ibmq-provider==0.20.2->qiskit) (1.5.0)\n",
      "Requirement already satisfied: pbr!=2.1.0,>=2.0.0 in c:\\users\\khale\\appdata\\local\\packages\\pythonsoftwarefoundation.python.3.9_qbz5n2kfra8p0\\localcache\\local-packages\\python39\\site-packages (from stevedore>=3.0.0->qiskit-terra==0.24.1->qiskit) (5.11.1)\n",
      "Requirement already satisfied: mpmath>=0.19 in c:\\users\\khale\\appdata\\local\\packages\\pythonsoftwarefoundation.python.3.9_qbz5n2kfra8p0\\localcache\\local-packages\\python39\\site-packages (from sympy>=1.3->qiskit-terra==0.24.1->qiskit) (1.3.0)\n",
      "Requirement already satisfied: cffi>=1.12 in c:\\users\\khale\\appdata\\local\\packages\\pythonsoftwarefoundation.python.3.9_qbz5n2kfra8p0\\localcache\\local-packages\\python39\\site-packages (from cryptography>=1.3->requests-ntlm<=1.1.0->qiskit-ibmq-provider==0.20.2->qiskit) (1.15.1)\n",
      "Requirement already satisfied: pycparser in c:\\users\\khale\\appdata\\local\\packages\\pythonsoftwarefoundation.python.3.9_qbz5n2kfra8p0\\localcache\\local-packages\\python39\\site-packages (from cffi>=1.12->cryptography>=1.3->requests-ntlm<=1.1.0->qiskit-ibmq-provider==0.20.2->qiskit) (2.21)\n"
     ]
    },
    {
     "name": "stderr",
     "output_type": "stream",
     "text": [
      "\n",
      "[notice] A new release of pip is available: 23.0 -> 23.1.2\n",
      "[notice] To update, run: C:\\Users\\khale\\AppData\\Local\\Microsoft\\WindowsApps\\PythonSoftwareFoundation.Python.3.9_qbz5n2kfra8p0\\python.exe -m pip install --upgrade pip\n"
     ]
    }
   ],
   "source": [
    "!pip install qiskit"
   ]
  },
  {
   "cell_type": "code",
   "execution_count": 180,
   "metadata": {},
   "outputs": [
    {
     "name": "stdout",
     "output_type": "stream",
     "text": [
      "Looking in indexes: https://pypi.org/simple, https://pypi.ngc.nvidia.com\n",
      "Requirement already satisfied: tweedledum in c:\\users\\khale\\appdata\\local\\packages\\pythonsoftwarefoundation.python.3.9_qbz5n2kfra8p0\\localcache\\local-packages\\python39\\site-packages (1.1.1)\n"
     ]
    },
    {
     "name": "stderr",
     "output_type": "stream",
     "text": [
      "\n",
      "[notice] A new release of pip is available: 23.0 -> 23.1.2\n",
      "[notice] To update, run: C:\\Users\\khale\\AppData\\Local\\Microsoft\\WindowsApps\\PythonSoftwareFoundation.Python.3.9_qbz5n2kfra8p0\\python.exe -m pip install --upgrade pip\n"
     ]
    }
   ],
   "source": [
    "!pip install tweedledum"
   ]
  },
  {
   "cell_type": "code",
   "execution_count": 181,
   "metadata": {},
   "outputs": [
    {
     "name": "stdout",
     "output_type": "stream",
     "text": [
      "Looking in indexes: https://pypi.org/simple, https://pypi.ngc.nvidia.com\n",
      "Collecting git+https://github.com/qiskit-community/qiskit-textbook.git#subdirectory=qiskit-textbook-src\n",
      "  Cloning https://github.com/qiskit-community/qiskit-textbook.git to c:\\users\\khale\\appdata\\local\\temp\\pip-req-build-to9vk380\n",
      "  Resolved https://github.com/qiskit-community/qiskit-textbook.git to commit 0ae905083ec3872d7ddc6bb4001d5468f476d93f\n",
      "  Preparing metadata (setup.py): started\n",
      "  Preparing metadata (setup.py): finished with status 'done'\n",
      "Requirement already satisfied: qiskit in c:\\users\\khale\\appdata\\local\\packages\\pythonsoftwarefoundation.python.3.9_qbz5n2kfra8p0\\localcache\\local-packages\\python39\\site-packages (from qiskit-textbook==0.1.0) (0.43.1)\n",
      "Requirement already satisfied: ipython in c:\\users\\khale\\appdata\\local\\packages\\pythonsoftwarefoundation.python.3.9_qbz5n2kfra8p0\\localcache\\local-packages\\python39\\site-packages (from qiskit-textbook==0.1.0) (8.6.0)\n",
      "Requirement already satisfied: ipywidgets in c:\\users\\khale\\appdata\\local\\packages\\pythonsoftwarefoundation.python.3.9_qbz5n2kfra8p0\\localcache\\local-packages\\python39\\site-packages (from qiskit-textbook==0.1.0) (8.0.4)\n",
      "Requirement already satisfied: numpy in c:\\users\\khale\\appdata\\local\\packages\\pythonsoftwarefoundation.python.3.9_qbz5n2kfra8p0\\localcache\\local-packages\\python39\\site-packages (from qiskit-textbook==0.1.0) (1.23.4)\n",
      "Requirement already satisfied: matplotlib in c:\\users\\khale\\appdata\\local\\packages\\pythonsoftwarefoundation.python.3.9_qbz5n2kfra8p0\\localcache\\local-packages\\python39\\site-packages (from qiskit-textbook==0.1.0) (3.6.3)\n",
      "Requirement already satisfied: numexpr in c:\\users\\khale\\appdata\\local\\packages\\pythonsoftwarefoundation.python.3.9_qbz5n2kfra8p0\\localcache\\local-packages\\python39\\site-packages (from qiskit-textbook==0.1.0) (2.8.4)\n",
      "Requirement already satisfied: colorama in c:\\users\\khale\\appdata\\local\\packages\\pythonsoftwarefoundation.python.3.9_qbz5n2kfra8p0\\localcache\\local-packages\\python39\\site-packages (from ipython->qiskit-textbook==0.1.0) (0.4.6)\n",
      "Requirement already satisfied: traitlets>=5 in c:\\users\\khale\\appdata\\local\\packages\\pythonsoftwarefoundation.python.3.9_qbz5n2kfra8p0\\localcache\\local-packages\\python39\\site-packages (from ipython->qiskit-textbook==0.1.0) (5.9.0)\n",
      "Requirement already satisfied: pickleshare in c:\\users\\khale\\appdata\\local\\packages\\pythonsoftwarefoundation.python.3.9_qbz5n2kfra8p0\\localcache\\local-packages\\python39\\site-packages (from ipython->qiskit-textbook==0.1.0) (0.7.5)\n",
      "Requirement already satisfied: stack-data in c:\\users\\khale\\appdata\\local\\packages\\pythonsoftwarefoundation.python.3.9_qbz5n2kfra8p0\\localcache\\local-packages\\python39\\site-packages (from ipython->qiskit-textbook==0.1.0) (0.6.1)\n",
      "Requirement already satisfied: decorator in c:\\users\\khale\\appdata\\local\\packages\\pythonsoftwarefoundation.python.3.9_qbz5n2kfra8p0\\localcache\\local-packages\\python39\\site-packages (from ipython->qiskit-textbook==0.1.0) (5.1.1)\n",
      "Requirement already satisfied: jedi>=0.16 in c:\\users\\khale\\appdata\\local\\packages\\pythonsoftwarefoundation.python.3.9_qbz5n2kfra8p0\\localcache\\local-packages\\python39\\site-packages (from ipython->qiskit-textbook==0.1.0) (0.18.2)\n",
      "Requirement already satisfied: matplotlib-inline in c:\\users\\khale\\appdata\\local\\packages\\pythonsoftwarefoundation.python.3.9_qbz5n2kfra8p0\\localcache\\local-packages\\python39\\site-packages (from ipython->qiskit-textbook==0.1.0) (0.1.6)\n",
      "Requirement already satisfied: backcall in c:\\users\\khale\\appdata\\local\\packages\\pythonsoftwarefoundation.python.3.9_qbz5n2kfra8p0\\localcache\\local-packages\\python39\\site-packages (from ipython->qiskit-textbook==0.1.0) (0.2.0)\n",
      "Requirement already satisfied: prompt-toolkit<3.1.0,>3.0.1 in c:\\users\\khale\\appdata\\local\\packages\\pythonsoftwarefoundation.python.3.9_qbz5n2kfra8p0\\localcache\\local-packages\\python39\\site-packages (from ipython->qiskit-textbook==0.1.0) (3.0.33)\n",
      "Requirement already satisfied: pygments>=2.4.0 in c:\\users\\khale\\appdata\\local\\packages\\pythonsoftwarefoundation.python.3.9_qbz5n2kfra8p0\\localcache\\local-packages\\python39\\site-packages (from ipython->qiskit-textbook==0.1.0) (2.13.0)\n",
      "Requirement already satisfied: jupyterlab-widgets~=3.0 in c:\\users\\khale\\appdata\\local\\packages\\pythonsoftwarefoundation.python.3.9_qbz5n2kfra8p0\\localcache\\local-packages\\python39\\site-packages (from ipywidgets->qiskit-textbook==0.1.0) (3.0.5)\n",
      "Requirement already satisfied: ipykernel>=4.5.1 in c:\\users\\khale\\appdata\\local\\packages\\pythonsoftwarefoundation.python.3.9_qbz5n2kfra8p0\\localcache\\local-packages\\python39\\site-packages (from ipywidgets->qiskit-textbook==0.1.0) (6.17.1)\n",
      "Requirement already satisfied: widgetsnbextension~=4.0 in c:\\users\\khale\\appdata\\local\\packages\\pythonsoftwarefoundation.python.3.9_qbz5n2kfra8p0\\localcache\\local-packages\\python39\\site-packages (from ipywidgets->qiskit-textbook==0.1.0) (4.0.5)\n",
      "Requirement already satisfied: python-dateutil>=2.7 in c:\\users\\khale\\appdata\\local\\packages\\pythonsoftwarefoundation.python.3.9_qbz5n2kfra8p0\\localcache\\local-packages\\python39\\site-packages (from matplotlib->qiskit-textbook==0.1.0) (2.8.2)\n",
      "Requirement already satisfied: pyparsing>=2.2.1 in c:\\users\\khale\\appdata\\local\\packages\\pythonsoftwarefoundation.python.3.9_qbz5n2kfra8p0\\localcache\\local-packages\\python39\\site-packages (from matplotlib->qiskit-textbook==0.1.0) (3.0.9)\n",
      "Requirement already satisfied: kiwisolver>=1.0.1 in c:\\users\\khale\\appdata\\local\\packages\\pythonsoftwarefoundation.python.3.9_qbz5n2kfra8p0\\localcache\\local-packages\\python39\\site-packages (from matplotlib->qiskit-textbook==0.1.0) (1.4.4)\n",
      "Requirement already satisfied: packaging>=20.0 in c:\\users\\khale\\appdata\\local\\packages\\pythonsoftwarefoundation.python.3.9_qbz5n2kfra8p0\\localcache\\local-packages\\python39\\site-packages (from matplotlib->qiskit-textbook==0.1.0) (23.1)\n",
      "Requirement already satisfied: cycler>=0.10 in c:\\users\\khale\\appdata\\local\\packages\\pythonsoftwarefoundation.python.3.9_qbz5n2kfra8p0\\localcache\\local-packages\\python39\\site-packages (from matplotlib->qiskit-textbook==0.1.0) (0.11.0)\n",
      "Requirement already satisfied: pillow>=6.2.0 in c:\\users\\khale\\appdata\\local\\packages\\pythonsoftwarefoundation.python.3.9_qbz5n2kfra8p0\\localcache\\local-packages\\python39\\site-packages (from matplotlib->qiskit-textbook==0.1.0) (9.2.0)\n",
      "Requirement already satisfied: contourpy>=1.0.1 in c:\\users\\khale\\appdata\\local\\packages\\pythonsoftwarefoundation.python.3.9_qbz5n2kfra8p0\\localcache\\local-packages\\python39\\site-packages (from matplotlib->qiskit-textbook==0.1.0) (1.0.5)\n",
      "Requirement already satisfied: fonttools>=4.22.0 in c:\\users\\khale\\appdata\\local\\packages\\pythonsoftwarefoundation.python.3.9_qbz5n2kfra8p0\\localcache\\local-packages\\python39\\site-packages (from matplotlib->qiskit-textbook==0.1.0) (4.37.4)\n",
      "Requirement already satisfied: qiskit-ibmq-provider==0.20.2 in c:\\users\\khale\\appdata\\local\\packages\\pythonsoftwarefoundation.python.3.9_qbz5n2kfra8p0\\localcache\\local-packages\\python39\\site-packages (from qiskit->qiskit-textbook==0.1.0) (0.20.2)\n",
      "Requirement already satisfied: qiskit-terra==0.24.1 in c:\\users\\khale\\appdata\\local\\packages\\pythonsoftwarefoundation.python.3.9_qbz5n2kfra8p0\\localcache\\local-packages\\python39\\site-packages (from qiskit->qiskit-textbook==0.1.0) (0.24.1)\n",
      "Requirement already satisfied: qiskit-aer==0.12.0 in c:\\users\\khale\\appdata\\local\\packages\\pythonsoftwarefoundation.python.3.9_qbz5n2kfra8p0\\localcache\\local-packages\\python39\\site-packages (from qiskit->qiskit-textbook==0.1.0) (0.12.0)\n",
      "Requirement already satisfied: scipy>=1.0 in c:\\users\\khale\\appdata\\local\\packages\\pythonsoftwarefoundation.python.3.9_qbz5n2kfra8p0\\localcache\\local-packages\\python39\\site-packages (from qiskit-aer==0.12.0->qiskit->qiskit-textbook==0.1.0) (1.9.3)\n",
      "Requirement already satisfied: requests-ntlm<=1.1.0 in c:\\users\\khale\\appdata\\local\\packages\\pythonsoftwarefoundation.python.3.9_qbz5n2kfra8p0\\localcache\\local-packages\\python39\\site-packages (from qiskit-ibmq-provider==0.20.2->qiskit->qiskit-textbook==0.1.0) (1.1.0)\n",
      "Requirement already satisfied: websocket-client>=1.5.1 in c:\\users\\khale\\appdata\\local\\packages\\pythonsoftwarefoundation.python.3.9_qbz5n2kfra8p0\\localcache\\local-packages\\python39\\site-packages (from qiskit-ibmq-provider==0.20.2->qiskit->qiskit-textbook==0.1.0) (1.5.3)\n",
      "Requirement already satisfied: requests>=2.19 in c:\\users\\khale\\appdata\\local\\packages\\pythonsoftwarefoundation.python.3.9_qbz5n2kfra8p0\\localcache\\local-packages\\python39\\site-packages (from qiskit-ibmq-provider==0.20.2->qiskit->qiskit-textbook==0.1.0) (2.28.2)\n",
      "Requirement already satisfied: urllib3>=1.21.1 in c:\\users\\khale\\appdata\\local\\packages\\pythonsoftwarefoundation.python.3.9_qbz5n2kfra8p0\\localcache\\local-packages\\python39\\site-packages (from qiskit-ibmq-provider==0.20.2->qiskit->qiskit-textbook==0.1.0) (1.26.12)\n",
      "Requirement already satisfied: websockets>=10.0 in c:\\users\\khale\\appdata\\local\\packages\\pythonsoftwarefoundation.python.3.9_qbz5n2kfra8p0\\localcache\\local-packages\\python39\\site-packages (from qiskit-ibmq-provider==0.20.2->qiskit->qiskit-textbook==0.1.0) (11.0.3)\n",
      "Requirement already satisfied: rustworkx>=0.12.0 in c:\\users\\khale\\appdata\\local\\packages\\pythonsoftwarefoundation.python.3.9_qbz5n2kfra8p0\\localcache\\local-packages\\python39\\site-packages (from qiskit-terra==0.24.1->qiskit->qiskit-textbook==0.1.0) (0.13.0)\n",
      "Requirement already satisfied: ply>=3.10 in c:\\users\\khale\\appdata\\local\\packages\\pythonsoftwarefoundation.python.3.9_qbz5n2kfra8p0\\localcache\\local-packages\\python39\\site-packages (from qiskit-terra==0.24.1->qiskit->qiskit-textbook==0.1.0) (3.11)\n",
      "Requirement already satisfied: dill>=0.3 in c:\\users\\khale\\appdata\\local\\packages\\pythonsoftwarefoundation.python.3.9_qbz5n2kfra8p0\\localcache\\local-packages\\python39\\site-packages (from qiskit-terra==0.24.1->qiskit->qiskit-textbook==0.1.0) (0.3.6)\n",
      "Requirement already satisfied: sympy>=1.3 in c:\\users\\khale\\appdata\\local\\packages\\pythonsoftwarefoundation.python.3.9_qbz5n2kfra8p0\\localcache\\local-packages\\python39\\site-packages (from qiskit-terra==0.24.1->qiskit->qiskit-textbook==0.1.0) (1.12)\n",
      "Requirement already satisfied: stevedore>=3.0.0 in c:\\users\\khale\\appdata\\local\\packages\\pythonsoftwarefoundation.python.3.9_qbz5n2kfra8p0\\localcache\\local-packages\\python39\\site-packages (from qiskit-terra==0.24.1->qiskit->qiskit-textbook==0.1.0) (5.1.0)\n",
      "Requirement already satisfied: psutil>=5 in c:\\users\\khale\\appdata\\local\\packages\\pythonsoftwarefoundation.python.3.9_qbz5n2kfra8p0\\localcache\\local-packages\\python39\\site-packages (from qiskit-terra==0.24.1->qiskit->qiskit-textbook==0.1.0) (5.9.4)\n",
      "Requirement already satisfied: nest-asyncio in c:\\users\\khale\\appdata\\local\\packages\\pythonsoftwarefoundation.python.3.9_qbz5n2kfra8p0\\localcache\\local-packages\\python39\\site-packages (from ipykernel>=4.5.1->ipywidgets->qiskit-textbook==0.1.0) (1.5.6)\n",
      "Requirement already satisfied: jupyter-client>=6.1.12 in c:\\users\\khale\\appdata\\local\\packages\\pythonsoftwarefoundation.python.3.9_qbz5n2kfra8p0\\localcache\\local-packages\\python39\\site-packages (from ipykernel>=4.5.1->ipywidgets->qiskit-textbook==0.1.0) (7.4.7)\n",
      "Requirement already satisfied: pyzmq>=17 in c:\\users\\khale\\appdata\\local\\packages\\pythonsoftwarefoundation.python.3.9_qbz5n2kfra8p0\\localcache\\local-packages\\python39\\site-packages (from ipykernel>=4.5.1->ipywidgets->qiskit-textbook==0.1.0) (24.0.1)\n",
      "Requirement already satisfied: debugpy>=1.0 in c:\\users\\khale\\appdata\\local\\packages\\pythonsoftwarefoundation.python.3.9_qbz5n2kfra8p0\\localcache\\local-packages\\python39\\site-packages (from ipykernel>=4.5.1->ipywidgets->qiskit-textbook==0.1.0) (1.6.3)\n",
      "Requirement already satisfied: tornado>=6.1 in c:\\users\\khale\\appdata\\local\\packages\\pythonsoftwarefoundation.python.3.9_qbz5n2kfra8p0\\localcache\\local-packages\\python39\\site-packages (from ipykernel>=4.5.1->ipywidgets->qiskit-textbook==0.1.0) (6.2)\n",
      "Requirement already satisfied: parso<0.9.0,>=0.8.0 in c:\\users\\khale\\appdata\\local\\packages\\pythonsoftwarefoundation.python.3.9_qbz5n2kfra8p0\\localcache\\local-packages\\python39\\site-packages (from jedi>=0.16->ipython->qiskit-textbook==0.1.0) (0.8.3)\n",
      "Requirement already satisfied: wcwidth in c:\\users\\khale\\appdata\\local\\packages\\pythonsoftwarefoundation.python.3.9_qbz5n2kfra8p0\\localcache\\local-packages\\python39\\site-packages (from prompt-toolkit<3.1.0,>3.0.1->ipython->qiskit-textbook==0.1.0) (0.2.5)\n",
      "Requirement already satisfied: six>=1.5 in c:\\users\\khale\\appdata\\local\\packages\\pythonsoftwarefoundation.python.3.9_qbz5n2kfra8p0\\localcache\\local-packages\\python39\\site-packages (from python-dateutil>=2.7->matplotlib->qiskit-textbook==0.1.0) (1.16.0)\n",
      "Requirement already satisfied: executing>=1.2.0 in c:\\users\\khale\\appdata\\local\\packages\\pythonsoftwarefoundation.python.3.9_qbz5n2kfra8p0\\localcache\\local-packages\\python39\\site-packages (from stack-data->ipython->qiskit-textbook==0.1.0) (1.2.0)\n",
      "Requirement already satisfied: asttokens>=2.1.0 in c:\\users\\khale\\appdata\\local\\packages\\pythonsoftwarefoundation.python.3.9_qbz5n2kfra8p0\\localcache\\local-packages\\python39\\site-packages (from stack-data->ipython->qiskit-textbook==0.1.0) (2.1.0)\n",
      "Requirement already satisfied: pure-eval in c:\\users\\khale\\appdata\\local\\packages\\pythonsoftwarefoundation.python.3.9_qbz5n2kfra8p0\\localcache\\local-packages\\python39\\site-packages (from stack-data->ipython->qiskit-textbook==0.1.0) (0.2.2)\n",
      "Requirement already satisfied: jupyter-core>=4.9.2 in c:\\users\\khale\\appdata\\local\\packages\\pythonsoftwarefoundation.python.3.9_qbz5n2kfra8p0\\localcache\\local-packages\\python39\\site-packages (from jupyter-client>=6.1.12->ipykernel>=4.5.1->ipywidgets->qiskit-textbook==0.1.0) (5.2.0)\n",
      "Requirement already satisfied: entrypoints in c:\\users\\khale\\appdata\\local\\packages\\pythonsoftwarefoundation.python.3.9_qbz5n2kfra8p0\\localcache\\local-packages\\python39\\site-packages (from jupyter-client>=6.1.12->ipykernel>=4.5.1->ipywidgets->qiskit-textbook==0.1.0) (0.4)\n",
      "Requirement already satisfied: charset-normalizer<4,>=2 in c:\\users\\khale\\appdata\\local\\packages\\pythonsoftwarefoundation.python.3.9_qbz5n2kfra8p0\\localcache\\local-packages\\python39\\site-packages (from requests>=2.19->qiskit-ibmq-provider==0.20.2->qiskit->qiskit-textbook==0.1.0) (2.1.1)\n",
      "Requirement already satisfied: certifi>=2017.4.17 in c:\\users\\khale\\appdata\\local\\packages\\pythonsoftwarefoundation.python.3.9_qbz5n2kfra8p0\\localcache\\local-packages\\python39\\site-packages (from requests>=2.19->qiskit-ibmq-provider==0.20.2->qiskit->qiskit-textbook==0.1.0) (2022.9.24)\n",
      "Requirement already satisfied: idna<4,>=2.5 in c:\\users\\khale\\appdata\\local\\packages\\pythonsoftwarefoundation.python.3.9_qbz5n2kfra8p0\\localcache\\local-packages\\python39\\site-packages (from requests>=2.19->qiskit-ibmq-provider==0.20.2->qiskit->qiskit-textbook==0.1.0) (3.4)\n",
      "Requirement already satisfied: cryptography>=1.3 in c:\\users\\khale\\appdata\\local\\packages\\pythonsoftwarefoundation.python.3.9_qbz5n2kfra8p0\\localcache\\local-packages\\python39\\site-packages (from requests-ntlm<=1.1.0->qiskit-ibmq-provider==0.20.2->qiskit->qiskit-textbook==0.1.0) (41.0.1)\n",
      "Requirement already satisfied: ntlm-auth>=1.0.2 in c:\\users\\khale\\appdata\\local\\packages\\pythonsoftwarefoundation.python.3.9_qbz5n2kfra8p0\\localcache\\local-packages\\python39\\site-packages (from requests-ntlm<=1.1.0->qiskit-ibmq-provider==0.20.2->qiskit->qiskit-textbook==0.1.0) (1.5.0)\n",
      "Requirement already satisfied: pbr!=2.1.0,>=2.0.0 in c:\\users\\khale\\appdata\\local\\packages\\pythonsoftwarefoundation.python.3.9_qbz5n2kfra8p0\\localcache\\local-packages\\python39\\site-packages (from stevedore>=3.0.0->qiskit-terra==0.24.1->qiskit->qiskit-textbook==0.1.0) (5.11.1)\n",
      "Requirement already satisfied: mpmath>=0.19 in c:\\users\\khale\\appdata\\local\\packages\\pythonsoftwarefoundation.python.3.9_qbz5n2kfra8p0\\localcache\\local-packages\\python39\\site-packages (from sympy>=1.3->qiskit-terra==0.24.1->qiskit->qiskit-textbook==0.1.0) (1.3.0)\n",
      "Requirement already satisfied: cffi>=1.12 in c:\\users\\khale\\appdata\\local\\packages\\pythonsoftwarefoundation.python.3.9_qbz5n2kfra8p0\\localcache\\local-packages\\python39\\site-packages (from cryptography>=1.3->requests-ntlm<=1.1.0->qiskit-ibmq-provider==0.20.2->qiskit->qiskit-textbook==0.1.0) (1.15.1)\n",
      "Requirement already satisfied: platformdirs>=2.5 in c:\\users\\khale\\appdata\\local\\packages\\pythonsoftwarefoundation.python.3.9_qbz5n2kfra8p0\\localcache\\local-packages\\python39\\site-packages (from jupyter-core>=4.9.2->jupyter-client>=6.1.12->ipykernel>=4.5.1->ipywidgets->qiskit-textbook==0.1.0) (3.2.0)\n",
      "Requirement already satisfied: pywin32>=1.0 in c:\\users\\khale\\appdata\\local\\packages\\pythonsoftwarefoundation.python.3.9_qbz5n2kfra8p0\\localcache\\local-packages\\python39\\site-packages (from jupyter-core>=4.9.2->jupyter-client>=6.1.12->ipykernel>=4.5.1->ipywidgets->qiskit-textbook==0.1.0) (305)\n",
      "Requirement already satisfied: pycparser in c:\\users\\khale\\appdata\\local\\packages\\pythonsoftwarefoundation.python.3.9_qbz5n2kfra8p0\\localcache\\local-packages\\python39\\site-packages (from cffi>=1.12->cryptography>=1.3->requests-ntlm<=1.1.0->qiskit-ibmq-provider==0.20.2->qiskit->qiskit-textbook==0.1.0) (2.21)\n"
     ]
    },
    {
     "name": "stderr",
     "output_type": "stream",
     "text": [
      "  Running command git clone --filter=blob:none --quiet https://github.com/qiskit-community/qiskit-textbook.git 'C:\\Users\\khale\\AppData\\Local\\Temp\\pip-req-build-to9vk380'\n",
      "\n",
      "[notice] A new release of pip is available: 23.0 -> 23.1.2\n",
      "[notice] To update, run: C:\\Users\\khale\\AppData\\Local\\Microsoft\\WindowsApps\\PythonSoftwareFoundation.Python.3.9_qbz5n2kfra8p0\\python.exe -m pip install --upgrade pip\n"
     ]
    }
   ],
   "source": [
    "!pip install git+https://github.com/qiskit-community/qiskit-textbook.git#subdirectory=qiskit-textbook-src\n"
   ]
  },
  {
   "cell_type": "code",
   "execution_count": 285,
   "metadata": {},
   "outputs": [],
   "source": [
    "#Libraries Needed\n",
    "import matplotlib.pyplot as plt\n",
    "import math\n",
    "import numpy as np\n",
    "\n",
    "from qiskit.circuit.library import PhaseOracle, GroverOperator\n",
    "from qiskit import QuantumCircuit, ClassicalRegister, QuantumRegister, Aer, transpile, execute, IBMQ, assemble\n",
    "from qiskit.visualization import plot_histogram, array_to_latex\n",
    "from qiskit.providers.ibmq import least_busy"
   ]
  },
  {
   "attachments": {},
   "cell_type": "markdown",
   "metadata": {},
   "source": [
    "# Grover's Search Algorithm (Introduction) [Done]\n",
    "Following textbook: https://learn.qiskit.org/course/introduction/grovers-search-algorithm"
   ]
  },
  {
   "attachments": {},
   "cell_type": "markdown",
   "metadata": {},
   "source": [
    "## First Implementation"
   ]
  },
  {
   "cell_type": "code",
   "execution_count": 183,
   "metadata": {},
   "outputs": [
    {
     "name": "stdout",
     "output_type": "stream",
     "text": [
      "c example DIMACS-CNF 3-SAT\n",
      "p cnf 3 5\n",
      "-1 -2 -3 0\n",
      "1 -2 3 0\n",
      "1 2 -3 0\n",
      "1 -2 -3 0\n",
      "-1 2 3 0\n"
     ]
    }
   ],
   "source": [
    "with open('3sat.dimacs', 'r', encoding='utf8') as f:\n",
    "    dimacs = f.read()\n",
    "print(dimacs)  # let's check the file is as promised"
   ]
  },
  {
   "cell_type": "code",
   "execution_count": 184,
   "metadata": {},
   "outputs": [
    {
     "data": {
      "text/html": [
       "<pre style=\"word-wrap: normal;white-space: pre;background: #fff0;line-height: 1.1;font-family: &quot;Courier New&quot;,Courier,monospace\">          ┌───┐┌───┐┌───┐   \n",
       "q_0: ──■──┤ X ├┤ Z ├┤ X ├─o─\n",
       "       │  └───┘└───┘└───┘ │ \n",
       "q_1: ──■──────────────────■─\n",
       "     ┌───┐                │ \n",
       "q_2: ┤ Z ├────────────────o─\n",
       "     └───┘                  </pre>"
      ],
      "text/plain": [
       "          ┌───┐┌───┐┌───┐   \n",
       "q_0: ──■──┤ X ├┤ Z ├┤ X ├─o─\n",
       "       │  └───┘└───┘└───┘ │ \n",
       "q_1: ──■──────────────────■─\n",
       "     ┌───┐                │ \n",
       "q_2: ┤ Z ├────────────────o─\n",
       "     └───┘                  "
      ]
     },
     "execution_count": 184,
     "metadata": {},
     "output_type": "execute_result"
    }
   ],
   "source": [
    "oracle = PhaseOracle.from_dimacs_file('3sat.dimacs')\n",
    "oracle.draw()"
   ]
  },
  {
   "cell_type": "code",
   "execution_count": 185,
   "metadata": {},
   "outputs": [
    {
     "data": {
      "text/html": [
       "<pre style=\"word-wrap: normal;white-space: pre;background: #fff0;line-height: 1.1;font-family: &quot;Courier New&quot;,Courier,monospace\">     ┌───┐\n",
       "q_0: ┤ H ├\n",
       "     ├───┤\n",
       "q_1: ┤ H ├\n",
       "     ├───┤\n",
       "q_2: ┤ H ├\n",
       "     └───┘</pre>"
      ],
      "text/plain": [
       "     ┌───┐\n",
       "q_0: ┤ H ├\n",
       "     ├───┤\n",
       "q_1: ┤ H ├\n",
       "     ├───┤\n",
       "q_2: ┤ H ├\n",
       "     └───┘"
      ]
     },
     "execution_count": 185,
     "metadata": {},
     "output_type": "execute_result"
    }
   ],
   "source": [
    "init = QuantumCircuit(3)\n",
    "init.h([0,1,2])\n",
    "init.draw()"
   ]
  },
  {
   "cell_type": "code",
   "execution_count": 186,
   "metadata": {},
   "outputs": [],
   "source": [
    "grover_operator = GroverOperator(oracle)"
   ]
  },
  {
   "cell_type": "code",
   "execution_count": 187,
   "metadata": {},
   "outputs": [
    {
     "data": {
      "text/html": [
       "<pre style=\"word-wrap: normal;white-space: pre;background: #fff0;line-height: 1.1;font-family: &quot;Courier New&quot;,Courier,monospace\">        ┌───┐┌────┐ ░ ┌─┐      \n",
       "   q_0: ┤ H ├┤0   ├─░─┤M├──────\n",
       "        ├───┤│    │ ░ └╥┘┌─┐   \n",
       "   q_1: ┤ H ├┤1 Q ├─░──╫─┤M├───\n",
       "        ├───┤│    │ ░  ║ └╥┘┌─┐\n",
       "   q_2: ┤ H ├┤2   ├─░──╫──╫─┤M├\n",
       "        └───┘└────┘ ░  ║  ║ └╥┘\n",
       "meas: 3/═══════════════╩══╩══╩═\n",
       "                       0  1  2 </pre>"
      ],
      "text/plain": [
       "        ┌───┐┌────┐ ░ ┌─┐      \n",
       "   q_0: ┤ H ├┤0   ├─░─┤M├──────\n",
       "        ├───┤│    │ ░ └╥┘┌─┐   \n",
       "   q_1: ┤ H ├┤1 Q ├─░──╫─┤M├───\n",
       "        ├───┤│    │ ░  ║ └╥┘┌─┐\n",
       "   q_2: ┤ H ├┤2   ├─░──╫──╫─┤M├\n",
       "        └───┘└────┘ ░  ║  ║ └╥┘\n",
       "meas: 3/═══════════════╩══╩══╩═\n",
       "                       0  1  2 "
      ]
     },
     "execution_count": 187,
     "metadata": {},
     "output_type": "execute_result"
    }
   ],
   "source": [
    "qc = init.compose(grover_operator)\n",
    "qc.measure_all()\n",
    "qc.draw()"
   ]
  },
  {
   "cell_type": "code",
   "execution_count": 188,
   "metadata": {},
   "outputs": [
    {
     "data": {
      "image/png": "[encoded data removed]",
      "text/plain": [
       "<Figure size 700x500 with 1 Axes>"
      ]
     },
     "execution_count": 188,
     "metadata": {},
     "output_type": "execute_result"
    }
   ],
   "source": [
    "# Simulate the circuit\n",
    "sim = Aer.get_backend('aer_simulator')\n",
    "t_qc = transpile(qc, sim)\n",
    "counts = sim.run(t_qc).result().get_counts()\n",
    "\n",
    "# plot the results\n",
    "plot_histogram(counts)"
   ]
  },
  {
   "attachments": {},
   "cell_type": "markdown",
   "metadata": {},
   "source": [
    "## Circuit Implementation"
   ]
  },
  {
   "attachments": {},
   "cell_type": "markdown",
   "metadata": {},
   "source": [
    "Basic Oracle implementation of a circuit that flips the phase of the state |11>"
   ]
  },
  {
   "cell_type": "code",
   "execution_count": 189,
   "metadata": {},
   "outputs": [
    {
     "data": {
      "text/html": [
       "<pre style=\"word-wrap: normal;white-space: pre;background: #fff0;line-height: 1.1;font-family: &quot;Courier New&quot;,Courier,monospace\">        \n",
       "q_0: ─■─\n",
       "      │ \n",
       "q_1: ─■─\n",
       "        </pre>"
      ],
      "text/plain": [
       "        \n",
       "q_0: ─■─\n",
       "      │ \n",
       "q_1: ─■─\n",
       "        "
      ]
     },
     "execution_count": 189,
     "metadata": {},
     "output_type": "execute_result"
    }
   ],
   "source": [
    "oracle = QuantumCircuit(2)\n",
    "oracle.cz(0,1)\n",
    "oracle.draw()"
   ]
  },
  {
   "cell_type": "code",
   "execution_count": 190,
   "metadata": {},
   "outputs": [],
   "source": [
    "def display_unitary(qc, prefix=\"\"):\n",
    "    \"\"\"Simulates a simple circuit and display its matrix representation.\n",
    "    Args:\n",
    "        qc (QuantumCircuit): The circuit to compile to a unitary matrix\n",
    "        prefix (str): Optional LaTeX to be displayed before the matrix\n",
    "    Returns:\n",
    "        None (displays matrix as side effect)\n",
    "    \"\"\"\n",
    "    sim = Aer.get_backend('aer_simulator')\n",
    "    # Next, we'll create a copy of the circuit and work on\n",
    "    # that so we don't change anything as a side effect\n",
    "    qc = qc.copy()\n",
    "    # Tell the simulator to save the unitary matrix of this circuit\n",
    "    qc.save_unitary()\n",
    "    unitary = sim.run(qc).result().get_unitary()\n",
    "    display(array_to_latex(unitary, prefix=prefix))"
   ]
  },
  {
   "cell_type": "code",
   "execution_count": 191,
   "metadata": {},
   "outputs": [
    {
     "data": {
      "text/latex": [
       "$$\n",
       "U_\\text{oracle}=\n",
       "\\begin{bmatrix}\n",
       "1 & 0 & 0 & 0  \\\\\n",
       " 0 & 1 & 0 & 0  \\\\\n",
       " 0 & 0 & 1 & 0  \\\\\n",
       " 0 & 0 & 0 & -1  \\\\\n",
       " \\end{bmatrix}\n",
       "$$"
      ],
      "text/plain": [
       "<IPython.core.display.Latex object>"
      ]
     },
     "metadata": {},
     "output_type": "display_data"
    }
   ],
   "source": [
    "display_unitary(oracle, \"U_\\\\text{oracle}=\")"
   ]
  },
  {
   "attachments": {},
   "cell_type": "markdown",
   "metadata": {},
   "source": [
    "From Qiskit:\n",
    "\n",
    "> Can you create 3 more oracle circuits that instead target the other 3 computational basis states (|00>, |01> and|10> )? Use display_unitary to check your answer.\n",
    ">\n",
    "> Hint: Try to create circuits that transform  to and from the basis state you're targeting, can you then use these circuits with the cz gate?"
   ]
  },
  {
   "attachments": {},
   "cell_type": "markdown",
   "metadata": {},
   "source": [
    "Oracle |00>"
   ]
  },
  {
   "cell_type": "code",
   "execution_count": 192,
   "metadata": {},
   "outputs": [
    {
     "data": {
      "text/html": [
       "<pre style=\"word-wrap: normal;white-space: pre;background: #fff0;line-height: 1.1;font-family: &quot;Courier New&quot;,Courier,monospace\">        \n",
       "q_0: ─■─\n",
       "      │ \n",
       "q_1: ─■─\n",
       "        </pre>"
      ],
      "text/plain": [
       "        \n",
       "q_0: ─■─\n",
       "      │ \n",
       "q_1: ─■─\n",
       "        "
      ]
     },
     "execution_count": 192,
     "metadata": {},
     "output_type": "execute_result"
    }
   ],
   "source": [
    "oracle_00 = QuantumCircuit(2)\n",
    "oracle_00.cz(1, 0)\n",
    "oracle_00.draw()"
   ]
  },
  {
   "cell_type": "code",
   "execution_count": 193,
   "metadata": {},
   "outputs": [
    {
     "data": {
      "text/latex": [
       "$$\n",
       "U_\\text{oracle 00}=\n",
       "\\begin{bmatrix}\n",
       "1 & 0 & 0 & 0  \\\\\n",
       " 0 & 1 & 0 & 0  \\\\\n",
       " 0 & 0 & 1 & 0  \\\\\n",
       " 0 & 0 & 0 & -1  \\\\\n",
       " \\end{bmatrix}\n",
       "$$"
      ],
      "text/plain": [
       "<IPython.core.display.Latex object>"
      ]
     },
     "metadata": {},
     "output_type": "display_data"
    }
   ],
   "source": [
    "display_unitary(oracle_00, \"U_\\\\text{oracle 00}=\")"
   ]
  },
  {
   "attachments": {},
   "cell_type": "markdown",
   "metadata": {},
   "source": [
    "Oracle |01>"
   ]
  },
  {
   "cell_type": "code",
   "execution_count": 194,
   "metadata": {},
   "outputs": [
    {
     "data": {
      "text/html": [
       "<pre style=\"word-wrap: normal;white-space: pre;background: #fff0;line-height: 1.1;font-family: &quot;Courier New&quot;,Courier,monospace\">                  \n",
       "q_0: ──────■──────\n",
       "     ┌───┐ │ ┌───┐\n",
       "q_1: ┤ X ├─■─┤ X ├\n",
       "     └───┘   └───┘</pre>"
      ],
      "text/plain": [
       "                  \n",
       "q_0: ──────■──────\n",
       "     ┌───┐ │ ┌───┐\n",
       "q_1: ┤ X ├─■─┤ X ├\n",
       "     └───┘   └───┘"
      ]
     },
     "execution_count": 194,
     "metadata": {},
     "output_type": "execute_result"
    }
   ],
   "source": [
    "oracle_01 = QuantumCircuit(2)\n",
    "oracle_01.x(1)\n",
    "oracle_01.cz(1, 0)\n",
    "oracle_01.x(1)\n",
    "oracle_01.draw()"
   ]
  },
  {
   "cell_type": "code",
   "execution_count": 195,
   "metadata": {},
   "outputs": [
    {
     "data": {
      "text/latex": [
       "$$\n",
       "U_\\text{oracle 01}=\n",
       "\\begin{bmatrix}\n",
       "1 & 0 & 0 & 0  \\\\\n",
       " 0 & -1 & 0 & 0  \\\\\n",
       " 0 & 0 & 1 & 0  \\\\\n",
       " 0 & 0 & 0 & 1  \\\\\n",
       " \\end{bmatrix}\n",
       "$$"
      ],
      "text/plain": [
       "<IPython.core.display.Latex object>"
      ]
     },
     "metadata": {},
     "output_type": "display_data"
    }
   ],
   "source": [
    "display_unitary(oracle_01, \"U_\\\\text{oracle 01}=\")"
   ]
  },
  {
   "attachments": {},
   "cell_type": "markdown",
   "metadata": {},
   "source": [
    "Oracle |10>"
   ]
  },
  {
   "cell_type": "code",
   "execution_count": 196,
   "metadata": {},
   "outputs": [
    {
     "data": {
      "text/html": [
       "<pre style=\"word-wrap: normal;white-space: pre;background: #fff0;line-height: 1.1;font-family: &quot;Courier New&quot;,Courier,monospace\">     ┌───┐   ┌───┐\n",
       "q_0: ┤ X ├─■─┤ X ├\n",
       "     └───┘ │ └───┘\n",
       "q_1: ──────■──────\n",
       "                  </pre>"
      ],
      "text/plain": [
       "     ┌───┐   ┌───┐\n",
       "q_0: ┤ X ├─■─┤ X ├\n",
       "     └───┘ │ └───┘\n",
       "q_1: ──────■──────\n",
       "                  "
      ]
     },
     "execution_count": 196,
     "metadata": {},
     "output_type": "execute_result"
    }
   ],
   "source": [
    "oracle_10 = QuantumCircuit(2)\n",
    "oracle_10.x(0)\n",
    "oracle_10.cz(1, 0)\n",
    "oracle_10.x(0)\n",
    "oracle_10.draw()"
   ]
  },
  {
   "cell_type": "code",
   "execution_count": 197,
   "metadata": {},
   "outputs": [
    {
     "data": {
      "text/latex": [
       "$$\n",
       "U_\\text{oracle 10}=\n",
       "\\begin{bmatrix}\n",
       "1 & 0 & 0 & 0  \\\\\n",
       " 0 & 1 & 0 & 0  \\\\\n",
       " 0 & 0 & -1 & 0  \\\\\n",
       " 0 & 0 & 0 & 1  \\\\\n",
       " \\end{bmatrix}\n",
       "$$"
      ],
      "text/plain": [
       "<IPython.core.display.Latex object>"
      ]
     },
     "metadata": {},
     "output_type": "display_data"
    }
   ],
   "source": [
    "display_unitary(oracle_10, \"U_\\\\text{oracle 10}=\")"
   ]
  },
  {
   "attachments": {},
   "cell_type": "markdown",
   "metadata": {},
   "source": [
    "### Creating Diffuser"
   ]
  },
  {
   "cell_type": "code",
   "execution_count": 198,
   "metadata": {},
   "outputs": [
    {
     "data": {
      "text/html": [
       "<pre style=\"word-wrap: normal;white-space: pre;background: #fff0;line-height: 1.1;font-family: &quot;Courier New&quot;,Courier,monospace\">     ┌───┐\n",
       "q_0: ┤ H ├\n",
       "     ├───┤\n",
       "q_1: ┤ H ├\n",
       "     └───┘</pre>"
      ],
      "text/plain": [
       "     ┌───┐\n",
       "q_0: ┤ H ├\n",
       "     ├───┤\n",
       "q_1: ┤ H ├\n",
       "     └───┘"
      ]
     },
     "execution_count": 198,
     "metadata": {},
     "output_type": "execute_result"
    }
   ],
   "source": [
    "diffuser = QuantumCircuit(2)\n",
    "diffuser.h([0, 1])\n",
    "diffuser.draw()"
   ]
  },
  {
   "cell_type": "code",
   "execution_count": 199,
   "metadata": {},
   "outputs": [
    {
     "data": {
      "text/html": [
       "<pre style=\"word-wrap: normal;white-space: pre;background: #fff0;line-height: 1.1;font-family: &quot;Courier New&quot;,Courier,monospace\">     ┌───┐┌───┐\n",
       "q_0: ┤ H ├┤ X ├\n",
       "     ├───┤├───┤\n",
       "q_1: ┤ H ├┤ X ├\n",
       "     └───┘└───┘</pre>"
      ],
      "text/plain": [
       "     ┌───┐┌───┐\n",
       "q_0: ┤ H ├┤ X ├\n",
       "     ├───┤├───┤\n",
       "q_1: ┤ H ├┤ X ├\n",
       "     └───┘└───┘"
      ]
     },
     "execution_count": 199,
     "metadata": {},
     "output_type": "execute_result"
    }
   ],
   "source": [
    "diffuser.x([0,1])\n",
    "diffuser.draw()"
   ]
  },
  {
   "cell_type": "code",
   "execution_count": 200,
   "metadata": {},
   "outputs": [
    {
     "data": {
      "text/html": [
       "<pre style=\"word-wrap: normal;white-space: pre;background: #fff0;line-height: 1.1;font-family: &quot;Courier New&quot;,Courier,monospace\">     ┌───┐┌───┐   ┌───┐┌───┐\n",
       "q_0: ┤ H ├┤ X ├─■─┤ X ├┤ H ├\n",
       "     ├───┤├───┤ │ ├───┤├───┤\n",
       "q_1: ┤ H ├┤ X ├─■─┤ X ├┤ H ├\n",
       "     └───┘└───┘   └───┘└───┘</pre>"
      ],
      "text/plain": [
       "     ┌───┐┌───┐   ┌───┐┌───┐\n",
       "q_0: ┤ H ├┤ X ├─■─┤ X ├┤ H ├\n",
       "     ├───┤├───┤ │ ├───┤├───┤\n",
       "q_1: ┤ H ├┤ X ├─■─┤ X ├┤ H ├\n",
       "     └───┘└───┘   └───┘└───┘"
      ]
     },
     "execution_count": 200,
     "metadata": {},
     "output_type": "execute_result"
    }
   ],
   "source": [
    "diffuser.cz(0,1)\n",
    "diffuser.x([0,1])\n",
    "diffuser.h([0,1])\n",
    "diffuser.draw()"
   ]
  },
  {
   "attachments": {},
   "cell_type": "markdown",
   "metadata": {},
   "source": [
    "Putting it together"
   ]
  },
  {
   "cell_type": "code",
   "execution_count": 201,
   "metadata": {},
   "outputs": [
    {
     "data": {
      "text/html": [
       "<pre style=\"word-wrap: normal;white-space: pre;background: #fff0;line-height: 1.1;font-family: &quot;Courier New&quot;,Courier,monospace\">        ┌───┐   ┌───┐┌───┐   ┌───┐┌───┐ ░ ┌─┐   \n",
       "   q_0: ┤ H ├─■─┤ H ├┤ X ├─■─┤ X ├┤ H ├─░─┤M├───\n",
       "        ├───┤ │ ├───┤├───┤ │ ├───┤├───┤ ░ └╥┘┌─┐\n",
       "   q_1: ┤ H ├─■─┤ H ├┤ X ├─■─┤ X ├┤ H ├─░──╫─┤M├\n",
       "        └───┘   └───┘└───┘   └───┘└───┘ ░  ║ └╥┘\n",
       "meas: 2/═══════════════════════════════════╩══╩═\n",
       "                                           0  1 </pre>"
      ],
      "text/plain": [
       "        ┌───┐   ┌───┐┌───┐   ┌───┐┌───┐ ░ ┌─┐   \n",
       "   q_0: ┤ H ├─■─┤ H ├┤ X ├─■─┤ X ├┤ H ├─░─┤M├───\n",
       "        ├───┤ │ ├───┤├───┤ │ ├───┤├───┤ ░ └╥┘┌─┐\n",
       "   q_1: ┤ H ├─■─┤ H ├┤ X ├─■─┤ X ├┤ H ├─░──╫─┤M├\n",
       "        └───┘   └───┘└───┘   └───┘└───┘ ░  ║ └╥┘\n",
       "meas: 2/═══════════════════════════════════╩══╩═\n",
       "                                           0  1 "
      ]
     },
     "execution_count": 201,
     "metadata": {},
     "output_type": "execute_result"
    }
   ],
   "source": [
    "grover = QuantumCircuit(2)\n",
    "grover.h([0,1])  # initialise |s>\n",
    "grover = grover.compose(oracle)\n",
    "grover = grover.compose(diffuser)\n",
    "grover.measure_all()\n",
    "grover.draw()"
   ]
  },
  {
   "cell_type": "code",
   "execution_count": 202,
   "metadata": {},
   "outputs": [
    {
     "data": {
      "text/plain": [
       "{'11': 1024}"
      ]
     },
     "execution_count": 202,
     "metadata": {},
     "output_type": "execute_result"
    }
   ],
   "source": [
    "sim = Aer.get_backend('aer_simulator')\n",
    "sim.run(grover).result().get_counts()"
   ]
  },
  {
   "attachments": {},
   "cell_type": "markdown",
   "metadata": {},
   "source": [
    "Following Qiskit\n",
    "\n",
    ">Try replacing the oracle in this circuit with the different oracles you created above. Do you get the expected result?"
   ]
  },
  {
   "attachments": {},
   "cell_type": "markdown",
   "metadata": {},
   "source": [
    "Oracle |00>"
   ]
  },
  {
   "cell_type": "code",
   "execution_count": 203,
   "metadata": {},
   "outputs": [
    {
     "data": {
      "text/html": [
       "<pre style=\"word-wrap: normal;white-space: pre;background: #fff0;line-height: 1.1;font-family: &quot;Courier New&quot;,Courier,monospace\">        ┌───┐   ┌───┐┌───┐   ┌───┐┌───┐ ░ ┌─┐   \n",
       "   q_0: ┤ H ├─■─┤ H ├┤ X ├─■─┤ X ├┤ H ├─░─┤M├───\n",
       "        ├───┤ │ ├───┤├───┤ │ ├───┤├───┤ ░ └╥┘┌─┐\n",
       "   q_1: ┤ H ├─■─┤ H ├┤ X ├─■─┤ X ├┤ H ├─░──╫─┤M├\n",
       "        └───┘   └───┘└───┘   └───┘└───┘ ░  ║ └╥┘\n",
       "meas: 2/═══════════════════════════════════╩══╩═\n",
       "                                           0  1 </pre>"
      ],
      "text/plain": [
       "        ┌───┐   ┌───┐┌───┐   ┌───┐┌───┐ ░ ┌─┐   \n",
       "   q_0: ┤ H ├─■─┤ H ├┤ X ├─■─┤ X ├┤ H ├─░─┤M├───\n",
       "        ├───┤ │ ├───┤├───┤ │ ├───┤├───┤ ░ └╥┘┌─┐\n",
       "   q_1: ┤ H ├─■─┤ H ├┤ X ├─■─┤ X ├┤ H ├─░──╫─┤M├\n",
       "        └───┘   └───┘└───┘   └───┘└───┘ ░  ║ └╥┘\n",
       "meas: 2/═══════════════════════════════════╩══╩═\n",
       "                                           0  1 "
      ]
     },
     "execution_count": 203,
     "metadata": {},
     "output_type": "execute_result"
    }
   ],
   "source": [
    "grover = QuantumCircuit(2)\n",
    "grover.h([0,1])  # initialise |s>\n",
    "grover = grover.compose(oracle_00)\n",
    "grover = grover.compose(diffuser)\n",
    "grover.measure_all()\n",
    "grover.draw()"
   ]
  },
  {
   "cell_type": "code",
   "execution_count": 204,
   "metadata": {},
   "outputs": [
    {
     "data": {
      "text/plain": [
       "{'11': 1024}"
      ]
     },
     "execution_count": 204,
     "metadata": {},
     "output_type": "execute_result"
    }
   ],
   "source": [
    "sim = Aer.get_backend('aer_simulator')\n",
    "sim.run(grover).result().get_counts()"
   ]
  },
  {
   "attachments": {},
   "cell_type": "markdown",
   "metadata": {},
   "source": [
    "Oracle |01>"
   ]
  },
  {
   "cell_type": "code",
   "execution_count": 205,
   "metadata": {},
   "outputs": [
    {
     "data": {
      "text/html": [
       "<pre style=\"word-wrap: normal;white-space: pre;background: #fff0;line-height: 1.1;font-family: &quot;Courier New&quot;,Courier,monospace\">        ┌───┐        ┌───┐┌───┐        ┌───┐┌───┐ ░ ┌─┐   \n",
       "   q_0: ┤ H ├──────■─┤ H ├┤ X ├──────■─┤ X ├┤ H ├─░─┤M├───\n",
       "        ├───┤┌───┐ │ ├───┤├───┤┌───┐ │ ├───┤├───┤ ░ └╥┘┌─┐\n",
       "   q_1: ┤ H ├┤ X ├─■─┤ X ├┤ H ├┤ X ├─■─┤ X ├┤ H ├─░──╫─┤M├\n",
       "        └───┘└───┘   └───┘└───┘└───┘   └───┘└───┘ ░  ║ └╥┘\n",
       "meas: 2/═════════════════════════════════════════════╩══╩═\n",
       "                                                     0  1 </pre>"
      ],
      "text/plain": [
       "        ┌───┐        ┌───┐┌───┐        ┌───┐┌───┐ ░ ┌─┐   \n",
       "   q_0: ┤ H ├──────■─┤ H ├┤ X ├──────■─┤ X ├┤ H ├─░─┤M├───\n",
       "        ├───┤┌───┐ │ ├───┤├───┤┌───┐ │ ├───┤├───┤ ░ └╥┘┌─┐\n",
       "   q_1: ┤ H ├┤ X ├─■─┤ X ├┤ H ├┤ X ├─■─┤ X ├┤ H ├─░──╫─┤M├\n",
       "        └───┘└───┘   └───┘└───┘└───┘   └───┘└───┘ ░  ║ └╥┘\n",
       "meas: 2/═════════════════════════════════════════════╩══╩═\n",
       "                                                     0  1 "
      ]
     },
     "execution_count": 205,
     "metadata": {},
     "output_type": "execute_result"
    }
   ],
   "source": [
    "grover = QuantumCircuit(2)\n",
    "grover.h([0,1])  # initialise |s>\n",
    "grover = grover.compose(oracle_01)\n",
    "grover = grover.compose(diffuser)\n",
    "grover.measure_all()\n",
    "grover.draw()"
   ]
  },
  {
   "cell_type": "code",
   "execution_count": 206,
   "metadata": {},
   "outputs": [
    {
     "data": {
      "text/plain": [
       "{'01': 1024}"
      ]
     },
     "execution_count": 206,
     "metadata": {},
     "output_type": "execute_result"
    }
   ],
   "source": [
    "sim = Aer.get_backend('aer_simulator')\n",
    "sim.run(grover).result().get_counts()"
   ]
  },
  {
   "attachments": {},
   "cell_type": "markdown",
   "metadata": {},
   "source": [
    "Oracle |10>"
   ]
  },
  {
   "cell_type": "code",
   "execution_count": 207,
   "metadata": {},
   "outputs": [
    {
     "data": {
      "text/html": [
       "<pre style=\"word-wrap: normal;white-space: pre;background: #fff0;line-height: 1.1;font-family: &quot;Courier New&quot;,Courier,monospace\">        ┌───┐┌───┐   ┌───┐┌───┐┌───┐   ┌───┐┌───┐ ░ ┌─┐   \n",
       "   q_0: ┤ H ├┤ X ├─■─┤ X ├┤ H ├┤ X ├─■─┤ X ├┤ H ├─░─┤M├───\n",
       "        ├───┤└───┘ │ ├───┤├───┤└───┘ │ ├───┤├───┤ ░ └╥┘┌─┐\n",
       "   q_1: ┤ H ├──────■─┤ H ├┤ X ├──────■─┤ X ├┤ H ├─░──╫─┤M├\n",
       "        └───┘        └───┘└───┘        └───┘└───┘ ░  ║ └╥┘\n",
       "meas: 2/═════════════════════════════════════════════╩══╩═\n",
       "                                                     0  1 </pre>"
      ],
      "text/plain": [
       "        ┌───┐┌───┐   ┌───┐┌───┐┌───┐   ┌───┐┌───┐ ░ ┌─┐   \n",
       "   q_0: ┤ H ├┤ X ├─■─┤ X ├┤ H ├┤ X ├─■─┤ X ├┤ H ├─░─┤M├───\n",
       "        ├───┤└───┘ │ ├───┤├───┤└───┘ │ ├───┤├───┤ ░ └╥┘┌─┐\n",
       "   q_1: ┤ H ├──────■─┤ H ├┤ X ├──────■─┤ X ├┤ H ├─░──╫─┤M├\n",
       "        └───┘        └───┘└───┘        └───┘└───┘ ░  ║ └╥┘\n",
       "meas: 2/═════════════════════════════════════════════╩══╩═\n",
       "                                                     0  1 "
      ]
     },
     "execution_count": 207,
     "metadata": {},
     "output_type": "execute_result"
    }
   ],
   "source": [
    "grover = QuantumCircuit(2)\n",
    "grover.h([0,1])  # initialise |s>\n",
    "grover = grover.compose(oracle_10)\n",
    "grover = grover.compose(diffuser)\n",
    "grover.measure_all()\n",
    "grover.draw()"
   ]
  },
  {
   "cell_type": "code",
   "execution_count": 208,
   "metadata": {},
   "outputs": [
    {
     "data": {
      "text/plain": [
       "{'10': 1024}"
      ]
     },
     "execution_count": 208,
     "metadata": {},
     "output_type": "execute_result"
    }
   ],
   "source": [
    "sim = Aer.get_backend('aer_simulator')\n",
    "sim.run(grover).result().get_counts()"
   ]
  },
  {
   "attachments": {},
   "cell_type": "markdown",
   "metadata": {},
   "source": [
    "# Grover's Algorithm (V2) [Done]\n",
    "Following Textbook: https://learn.qiskit.org/course/ch-algorithms/grovers-algorithm"
   ]
  },
  {
   "attachments": {},
   "cell_type": "markdown",
   "metadata": {},
   "source": [
    "Qiskit Implementation"
   ]
  },
  {
   "cell_type": "code",
   "execution_count": 210,
   "metadata": {},
   "outputs": [],
   "source": [
    "n = 2\n",
    "grover_circuit = QuantumCircuit(n)"
   ]
  },
  {
   "cell_type": "code",
   "execution_count": 211,
   "metadata": {},
   "outputs": [],
   "source": [
    "def initialize_s(qc, qubits):\n",
    "    \"\"\"Apply a H-gate to 'qubits' in qc\"\"\"\n",
    "    for q in qubits:\n",
    "        qc.h(q)\n",
    "    return qc"
   ]
  },
  {
   "cell_type": "code",
   "execution_count": 212,
   "metadata": {},
   "outputs": [
    {
     "data": {
      "text/html": [
       "<pre style=\"word-wrap: normal;white-space: pre;background: #fff0;line-height: 1.1;font-family: &quot;Courier New&quot;,Courier,monospace\">     ┌───┐\n",
       "q_0: ┤ H ├\n",
       "     ├───┤\n",
       "q_1: ┤ H ├\n",
       "     └───┘</pre>"
      ],
      "text/plain": [
       "     ┌───┐\n",
       "q_0: ┤ H ├\n",
       "     ├───┤\n",
       "q_1: ┤ H ├\n",
       "     └───┘"
      ]
     },
     "execution_count": 212,
     "metadata": {},
     "output_type": "execute_result"
    }
   ],
   "source": [
    "grover_circuit = initialize_s(grover_circuit, [0,1])\n",
    "grover_circuit.draw()"
   ]
  },
  {
   "cell_type": "code",
   "execution_count": 213,
   "metadata": {},
   "outputs": [
    {
     "data": {
      "text/html": [
       "<pre style=\"word-wrap: normal;white-space: pre;background: #fff0;line-height: 1.1;font-family: &quot;Courier New&quot;,Courier,monospace\">     ┌───┐   \n",
       "q_0: ┤ H ├─■─\n",
       "     ├───┤ │ \n",
       "q_1: ┤ H ├─■─\n",
       "     └───┘   </pre>"
      ],
      "text/plain": [
       "     ┌───┐   \n",
       "q_0: ┤ H ├─■─\n",
       "     ├───┤ │ \n",
       "q_1: ┤ H ├─■─\n",
       "     └───┘   "
      ]
     },
     "execution_count": 213,
     "metadata": {},
     "output_type": "execute_result"
    }
   ],
   "source": [
    "grover_circuit.cz(0,1) # Oracle\n",
    "grover_circuit.draw()"
   ]
  },
  {
   "cell_type": "code",
   "execution_count": 214,
   "metadata": {},
   "outputs": [
    {
     "data": {
      "text/html": [
       "<pre style=\"word-wrap: normal;white-space: pre;background: #fff0;line-height: 1.1;font-family: &quot;Courier New&quot;,Courier,monospace\">     ┌───┐   ┌───┐┌───┐   ┌───┐\n",
       "q_0: ┤ H ├─■─┤ H ├┤ Z ├─■─┤ H ├\n",
       "     ├───┤ │ ├───┤├───┤ │ ├───┤\n",
       "q_1: ┤ H ├─■─┤ H ├┤ Z ├─■─┤ H ├\n",
       "     └───┘   └───┘└───┘   └───┘</pre>"
      ],
      "text/plain": [
       "     ┌───┐   ┌───┐┌───┐   ┌───┐\n",
       "q_0: ┤ H ├─■─┤ H ├┤ Z ├─■─┤ H ├\n",
       "     ├───┤ │ ├───┤├───┤ │ ├───┤\n",
       "q_1: ┤ H ├─■─┤ H ├┤ Z ├─■─┤ H ├\n",
       "     └───┘   └───┘└───┘   └───┘"
      ]
     },
     "execution_count": 214,
     "metadata": {},
     "output_type": "execute_result"
    }
   ],
   "source": [
    "# Diffusion operator (U_s)\n",
    "grover_circuit.h([0,1])\n",
    "grover_circuit.z([0,1])\n",
    "grover_circuit.cz(0,1)\n",
    "grover_circuit.h([0,1])\n",
    "grover_circuit.draw()"
   ]
  },
  {
   "attachments": {},
   "cell_type": "markdown",
   "metadata": {},
   "source": [
    "Experimenting with Simulators"
   ]
  },
  {
   "cell_type": "code",
   "execution_count": 215,
   "metadata": {},
   "outputs": [
    {
     "data": {
      "text/latex": [
       "$$\n",
       "|\\psi\\rangle =\n",
       "\\begin{bmatrix}\n",
       "0 & 0 & 0 & 1  \\\\\n",
       " \\end{bmatrix}\n",
       "$$"
      ],
      "text/plain": [
       "<IPython.core.display.Latex object>"
      ]
     },
     "execution_count": 215,
     "metadata": {},
     "output_type": "execute_result"
    }
   ],
   "source": [
    "sv_sim = Aer.get_backend('statevector_simulator')\n",
    "result = sv_sim.run(grover_circuit).result()\n",
    "statevec = result.get_statevector()\n",
    "array_to_latex(statevec, prefix=\"|\\\\psi\\\\rangle =\")"
   ]
  },
  {
   "cell_type": "code",
   "execution_count": 216,
   "metadata": {},
   "outputs": [
    {
     "data": {
      "image/png": "[encoded data removed]",
      "text/plain": [
       "<Figure size 700x500 with 1 Axes>"
      ]
     },
     "execution_count": 216,
     "metadata": {},
     "output_type": "execute_result"
    }
   ],
   "source": [
    "grover_circuit.measure_all()\n",
    "\n",
    "qasm_sim = Aer.get_backend('qasm_simulator')\n",
    "result = qasm_sim.run(grover_circuit).result()\n",
    "counts = result.get_counts()\n",
    "plot_histogram(counts)"
   ]
  },
  {
   "attachments": {},
   "cell_type": "markdown",
   "metadata": {},
   "source": [
    "## 3. Example: 3 Qubits\n",
    "Grover's algorithm for 3 qubits with two marked states|101> and |110>"
   ]
  },
  {
   "cell_type": "code",
   "execution_count": 217,
   "metadata": {},
   "outputs": [],
   "source": [
    "qc = QuantumCircuit(3)\n",
    "qc.cz(0, 2)\n",
    "qc.cz(1, 2)\n",
    "oracle_ex3 = qc.to_gate()\n",
    "oracle_ex3.name = \"U$_\\omega$\""
   ]
  },
  {
   "cell_type": "code",
   "execution_count": 218,
   "metadata": {},
   "outputs": [],
   "source": [
    "def diffuser(nqubits):\n",
    "    qc = QuantumCircuit(nqubits)\n",
    "    # Apply transformation |s> -> |00..0> (H-gates)\n",
    "    for qubit in range(nqubits):\n",
    "        qc.h(qubit)\n",
    "    # Apply transformation |00..0> -> |11..1> (X-gates)\n",
    "    for qubit in range(nqubits):\n",
    "        qc.x(qubit)\n",
    "    # Do multi-controlled-Z gate\n",
    "    qc.h(nqubits-1)\n",
    "    qc.mct(list(range(nqubits-1)), nqubits-1)  # multi-controlled-toffoli\n",
    "    qc.h(nqubits-1)\n",
    "    # Apply transformation |11..1> -> |00..0>\n",
    "    for qubit in range(nqubits):\n",
    "        qc.x(qubit)\n",
    "    # Apply transformation |00..0> -> |s>\n",
    "    for qubit in range(nqubits):\n",
    "        qc.h(qubit)\n",
    "    # We will return the diffuser as a gate\n",
    "    U_s = qc.to_gate()\n",
    "    U_s.name = \"U$_s$\"\n",
    "    return U_s"
   ]
  },
  {
   "cell_type": "code",
   "execution_count": 219,
   "metadata": {},
   "outputs": [
    {
     "data": {
      "text/html": [
       "<pre style=\"word-wrap: normal;white-space: pre;background: #fff0;line-height: 1.1;font-family: &quot;Courier New&quot;,Courier,monospace\">        ┌───┐┌─────────────┐┌────────┐ ░ ┌─┐      \n",
       "   q_0: ┤ H ├┤0            ├┤0       ├─░─┤M├──────\n",
       "        ├───┤│             ││        │ ░ └╥┘┌─┐   \n",
       "   q_1: ┤ H ├┤1 U$_\\omega$ ├┤1 U$_s$ ├─░──╫─┤M├───\n",
       "        ├───┤│             ││        │ ░  ║ └╥┘┌─┐\n",
       "   q_2: ┤ H ├┤2            ├┤2       ├─░──╫──╫─┤M├\n",
       "        └───┘└─────────────┘└────────┘ ░  ║  ║ └╥┘\n",
       "meas: 3/══════════════════════════════════╩══╩══╩═\n",
       "                                          0  1  2 </pre>"
      ],
      "text/plain": [
       "        ┌───┐┌─────────────┐┌────────┐ ░ ┌─┐      \n",
       "   q_0: ┤ H ├┤0            ├┤0       ├─░─┤M├──────\n",
       "        ├───┤│             ││        │ ░ └╥┘┌─┐   \n",
       "   q_1: ┤ H ├┤1 U$_\\omega$ ├┤1 U$_s$ ├─░──╫─┤M├───\n",
       "        ├───┤│             ││        │ ░  ║ └╥┘┌─┐\n",
       "   q_2: ┤ H ├┤2            ├┤2       ├─░──╫──╫─┤M├\n",
       "        └───┘└─────────────┘└────────┘ ░  ║  ║ └╥┘\n",
       "meas: 3/══════════════════════════════════╩══╩══╩═\n",
       "                                          0  1  2 "
      ]
     },
     "execution_count": 219,
     "metadata": {},
     "output_type": "execute_result"
    }
   ],
   "source": [
    "n = 3\n",
    "grover_circuit = QuantumCircuit(n)\n",
    "grover_circuit = initialize_s(grover_circuit, [0,1,2])\n",
    "grover_circuit.append(oracle_ex3, [0,1,2])\n",
    "grover_circuit.append(diffuser(n), [0,1,2])\n",
    "grover_circuit.measure_all()\n",
    "grover_circuit.draw()"
   ]
  },
  {
   "cell_type": "code",
   "execution_count": 220,
   "metadata": {},
   "outputs": [
    {
     "data": {
      "image/png": "[encoded data removed]",
      "text/plain": [
       "<Figure size 700x500 with 1 Axes>"
      ]
     },
     "execution_count": 220,
     "metadata": {},
     "output_type": "execute_result"
    }
   ],
   "source": [
    "qasm_sim = Aer.get_backend('qasm_simulator')\n",
    "transpiled_grover_circuit = transpile(grover_circuit, qasm_sim)\n",
    "results = qasm_sim.run(transpiled_grover_circuit).result()\n",
    "counts = results.get_counts()\n",
    "plot_histogram(counts)"
   ]
  },
  {
   "attachments": {},
   "cell_type": "markdown",
   "metadata": {},
   "source": [
    "## 4. Problems"
   ]
  },
  {
   "cell_type": "code",
   "execution_count": 221,
   "metadata": {},
   "outputs": [
    {
     "data": {
      "text/html": [
       "<pre style=\"word-wrap: normal;white-space: pre;background: #fff0;line-height: 1.1;font-family: &quot;Courier New&quot;,Courier,monospace\">     ┌────────────────────┐\n",
       "q_0: ┤0                   ├\n",
       "     │                    │\n",
       "q_1: ┤1                   ├\n",
       "     │  Oracle\n",
       "n=4, var=1 │\n",
       "q_2: ┤2                   ├\n",
       "     │                    │\n",
       "q_3: ┤3                   ├\n",
       "     └────────────────────┘</pre>"
      ],
      "text/plain": [
       "     ┌────────────────────┐\n",
       "q_0: ┤0                   ├\n",
       "     │                    │\n",
       "q_1: ┤1                   ├\n",
       "     │  Oracle\n",
       "n=4, var=1 │\n",
       "q_2: ┤2                   ├\n",
       "     │                    │\n",
       "q_3: ┤3                   ├\n",
       "     └────────────────────┘"
      ]
     },
     "execution_count": 221,
     "metadata": {},
     "output_type": "execute_result"
    }
   ],
   "source": [
    "from qiskit_textbook.problems import grover_problem_oracle\n",
    "## Example Usage\n",
    "n = 4\n",
    "oracle = grover_problem_oracle(n, variant=1)  # 0th variant of oracle, with n qubits\n",
    "qc = QuantumCircuit(n)\n",
    "qc.append(oracle, [0,1,2,3])\n",
    "qc.draw()"
   ]
  },
  {
   "attachments": {},
   "cell_type": "markdown",
   "metadata": {},
   "source": [
    "### Question 1\n",
    "> grover_problem_oracle(4, variant=2) uses 4 qubits and has 1 solution."
   ]
  },
  {
   "attachments": {},
   "cell_type": "markdown",
   "metadata": {},
   "source": [
    "> a. How many iterations do we need to have a > 90% chance of measuring this solution?\n",
    "\n",
    "For 1 solution and n=4 qubits, optimal number of iterations is $\\frac{\\sqrt{2^n}}{2}$ = $\\frac{\\sqrt{2^4}}{2}$ =2"
   ]
  },
  {
   "attachments": {},
   "cell_type": "markdown",
   "metadata": {},
   "source": [
    "> b. Use Grover's algorithm to find this solution state. "
   ]
  },
  {
   "cell_type": "code",
   "execution_count": 277,
   "metadata": {},
   "outputs": [
    {
     "name": "stdout",
     "output_type": "stream",
     "text": [
      "{'1100': 29, '0011': 585, '0110': 32, '0101': 32, '1001': 28, '1011': 28, '1000': 32, '0111': 40, '0100': 22, '0010': 26, '0000': 27, '1110': 26, '0001': 21, '1010': 27, '1111': 20, '1101': 25}\n"
     ]
    },
    {
     "data": {
      "image/png": "[encoded data removed]",
      "text/plain": [
       "<Figure size 700x500 with 1 Axes>"
      ]
     },
     "execution_count": 277,
     "metadata": {},
     "output_type": "execute_result"
    }
   ],
   "source": [
    "qc = QuantumCircuit(4, 4)\n",
    "oracle_ex4 = grover_problem_oracle(4, variant=2)\n",
    "\n",
    "# Initialize to superposition\n",
    "qc.h([0,1,2,3])\n",
    "\n",
    "# Apply Grover's iteration\n",
    "qc.append(oracle_ex4, [0,1,2,3])\n",
    "qc.append(diffuser(4), [0,1,2,3])\n",
    "\n",
    "# Repeat the iteration\n",
    "for _ in range(3):\n",
    "    qc.append(oracle_ex4, [0,1,2,3])\n",
    "    qc.append(diffuser(4), [0,1,2,3])\n",
    "\n",
    "# Measure the qubits\n",
    "qc.measure([0,1,2,3], [0,1,2,3])\n",
    "\n",
    "# Execute the circuit\n",
    "counts = execute(qc, Aer.get_backend('qasm_simulator'), shots=1000).result().get_counts()\n",
    "print(counts)\n",
    "plot_histogram(counts)"
   ]
  },
  {
   "attachments": {},
   "cell_type": "markdown",
   "metadata": {},
   "source": [
    ">c. What happens if we apply more iterations than the number we calculated in problem 1a above? Why?\n",
    "\n",
    "We may decrease the chance of finding our solution because we have over-rotated and overshot our target state, so |s'> =/= |w>\n",
    "\n",
    "This is shown below:"
   ]
  },
  {
   "cell_type": "code",
   "execution_count": 279,
   "metadata": {},
   "outputs": [
    {
     "name": "stdout",
     "output_type": "stream",
     "text": [
      "{'0110': 46, '0101': 67, '0111': 76, '0001': 69, '1101': 70, '0100': 71, '0010': 67, '1000': 61, '1010': 77, '0011': 28, '1011': 57, '1110': 62, '1111': 55, '1100': 70, '0000': 63, '1001': 61}\n"
     ]
    },
    {
     "data": {
      "image/png": "[encoded data removed]",
      "text/plain": [
       "<Figure size 700x500 with 1 Axes>"
      ]
     },
     "execution_count": 279,
     "metadata": {},
     "output_type": "execute_result"
    }
   ],
   "source": [
    "qc = QuantumCircuit(4, 4)\n",
    "oracle_ex4 = grover_problem_oracle(4, variant=2)\n",
    "\n",
    "# Initialize to superposition\n",
    "qc.h([0,1,2,3])\n",
    "\n",
    "# Apply Grover's iteration\n",
    "qc.append(oracle_ex4, [0,1,2,3])\n",
    "qc.append(diffuser(4), [0,1,2,3])\n",
    "\n",
    "# Repeat the iteration\n",
    "for _ in range(5):\n",
    "    qc.append(oracle_ex4, [0,1,2,3])\n",
    "    qc.append(diffuser(4), [0,1,2,3])\n",
    "\n",
    "# Measure the qubits\n",
    "qc.measure([0,1,2,3], [0,1,2,3])\n",
    "\n",
    "# Execute the circuit\n",
    "counts = execute(qc, Aer.get_backend('qasm_simulator'), shots=1000).result().get_counts()\n",
    "print(counts)\n",
    "plot_histogram(counts)"
   ]
  },
  {
   "attachments": {},
   "cell_type": "markdown",
   "metadata": {},
   "source": [
    "### Question 2\n",
    "\n",
    ">2. With 2 solutions and 4 qubits, how many iterations do we need for a >90% chance of measuring a solution? Test your answer using the oracle grover_problem_oracle(4, variant=1) (which has two solutions). Test your answer using the oracle grover_problem_oracle(4, variant=1) (which has two solutions).\n",
    "\n",
    "Iterations needed is $\\sqrt{2}$ so ~1 iteration. I tried experimenting with 1 and 2, as shown below"
   ]
  },
  {
   "cell_type": "code",
   "execution_count": 280,
   "metadata": {},
   "outputs": [
    {
     "name": "stdout",
     "output_type": "stream",
     "text": [
      "{'1010': 4, '1001': 469, '0111': 473, '0011': 5, '0101': 3, '1000': 6, '0000': 4, '0110': 6, '1110': 4, '1111': 4, '0010': 5, '1100': 4, '1101': 4, '0001': 4, '1011': 4, '0100': 1}\n"
     ]
    },
    {
     "data": {
      "image/png": "[encoded data removed]",
      "text/plain": [
       "<Figure size 700x500 with 1 Axes>"
      ]
     },
     "execution_count": 280,
     "metadata": {},
     "output_type": "execute_result"
    }
   ],
   "source": [
    "#1 Rotation\n",
    "qc = QuantumCircuit(4, 4)\n",
    "oracle_ex2_4 = grover_problem_oracle(4, variant=1)\n",
    "\n",
    "# Initialize to superposition\n",
    "qc.h([0,1,2,3])\n",
    "\n",
    "# Apply Grover's iteration\n",
    "qc.append(oracle_ex2_4, [0,1,2,3])\n",
    "qc.append(diffuser(4), [0,1,2,3])\n",
    "\n",
    "# Repeat the iteration\n",
    "for _ in range(1):\n",
    "    qc.append(oracle_ex2_4, [0,1,2,3])\n",
    "    qc.append(diffuser(4), [0,1,2,3])\n",
    "\n",
    "# Measure the qubits\n",
    "qc.measure([0,1,2,3], [0,1,2,3])\n",
    "\n",
    "# Execute the circuit\n",
    "counts = execute(qc, Aer.get_backend('qasm_simulator'), shots=1000).result().get_counts()\n",
    "print(counts)\n",
    "plot_histogram(counts)"
   ]
  },
  {
   "cell_type": "code",
   "execution_count": 281,
   "metadata": {},
   "outputs": [
    {
     "name": "stdout",
     "output_type": "stream",
     "text": [
      "{'1010': 57, '1001': 174, '1110': 55, '1000': 46, '0000': 56, '0011': 38, '0111': 170, '1101': 48, '1111': 48, '0010': 41, '0110': 44, '1011': 55, '0101': 40, '0001': 50, '1100': 37, '0100': 41}\n"
     ]
    },
    {
     "data": {
      "image/png": "[encoded data removed]",
      "text/plain": [
       "<Figure size 700x500 with 1 Axes>"
      ]
     },
     "execution_count": 281,
     "metadata": {},
     "output_type": "execute_result"
    }
   ],
   "source": [
    "#2 Rotations\n",
    "qc = QuantumCircuit(4, 4)\n",
    "oracle_ex2_4 = grover_problem_oracle(4, variant=1)\n",
    "\n",
    "# Initialize to superposition\n",
    "qc.h([0,1,2,3])\n",
    "\n",
    "# Apply Grover's iteration\n",
    "qc.append(oracle_ex2_4, [0,1,2,3])\n",
    "qc.append(diffuser(4), [0,1,2,3])\n",
    "\n",
    "# Repeat the iteration\n",
    "for _ in range(2):\n",
    "    qc.append(oracle_ex2_4, [0,1,2,3])\n",
    "    qc.append(diffuser(4), [0,1,2,3])\n",
    "\n",
    "# Measure the qubits\n",
    "qc.measure([0,1,2,3], [0,1,2,3])\n",
    "\n",
    "# Execute the circuit\n",
    "counts = execute(qc, Aer.get_backend('qasm_simulator'), shots=1000).result().get_counts()\n",
    "print(counts)\n",
    "plot_histogram(counts)"
   ]
  },
  {
   "attachments": {},
   "cell_type": "markdown",
   "metadata": {},
   "source": [
    "We can see from comparing the two graphs, the probability is higher for 1 rotation."
   ]
  },
  {
   "attachments": {},
   "cell_type": "markdown",
   "metadata": {},
   "source": [
    "### Question 3\n",
    ">Create a function, grover_solver(oracle, iterations) that takes as input:\n",
    ">\n",
    ">- A Grover oracle as a gate (oracle)\n",
    ">- An integer number of iterations (iterations)\n",
    ">\n",
    ">and returns a QuantumCircuit that performs Grover's algorithm on the 'oracle' gate, with 'iterations' iterations."
   ]
  },
  {
   "cell_type": "code",
   "execution_count": 283,
   "metadata": {},
   "outputs": [],
   "source": [
    "def grover_solver(oracle, iterations):\n",
    "    n = oracle.num_qubits  # Get the number of qubits from the oracle\n",
    "    qc = QuantumCircuit(n, n)\n",
    "\n",
    "    # Initialize to superposition\n",
    "    qc.h(range(n))\n",
    "\n",
    "    # Apply Grover's iterations\n",
    "    for _ in range(iterations):\n",
    "        qc.append(oracle, range(n))\n",
    "        qc.append(diffuser(n), range(n))\n",
    "\n",
    "    # Measure the qubits\n",
    "    qc.measure(range(n), range(n))\n",
    "    \n",
    "    return qc"
   ]
  },
  {
   "cell_type": "code",
   "execution_count": 284,
   "metadata": {},
   "outputs": [
    {
     "name": "stdout",
     "output_type": "stream",
     "text": [
      "{'1101': 22, '1001': 373, '0111': 398, '1011': 14, '0010': 17, '1000': 15, '1111': 21, '1110': 12, '0001': 17, '0110': 10, '0101': 13, '1100': 15, '1010': 14, '0011': 20, '0100': 20, '0000': 19}\n"
     ]
    },
    {
     "data": {
      "image/png": "[encoded data removed]",
      "text/plain": [
       "<Figure size 700x500 with 1 Axes>"
      ]
     },
     "execution_count": 284,
     "metadata": {},
     "output_type": "execute_result"
    }
   ],
   "source": [
    "# Example Usage:\n",
    "oracle = grover_problem_oracle(4, variant=1)\n",
    "iterations = 1\n",
    "qc = grover_solver(oracle, iterations)\n",
    "\n",
    "# Execute the circuit\n",
    "counts = execute(qc, Aer.get_backend('qasm_simulator'), shots=1000).result().get_counts()\n",
    "print(counts)\n",
    "plot_histogram(counts)"
   ]
  },
  {
   "attachments": {},
   "cell_type": "markdown",
   "metadata": {},
   "source": [
    "## Solving Suduko using Grover's Algorithm"
   ]
  },
  {
   "cell_type": "code",
   "execution_count": 241,
   "metadata": {},
   "outputs": [],
   "source": [
    "clause_list = [ [0,1],\n",
    "               [0,2],\n",
    "               [1,3],\n",
    "               [2,3] ]"
   ]
  },
  {
   "cell_type": "code",
   "execution_count": 242,
   "metadata": {},
   "outputs": [],
   "source": [
    "def XOR(qc, a, b, output):\n",
    "    qc.cx(a, output)\n",
    "    qc.cx(b, output)"
   ]
  },
  {
   "cell_type": "code",
   "execution_count": 243,
   "metadata": {},
   "outputs": [
    {
     "data": {
      "text/html": [
       "<pre style=\"word-wrap: normal;white-space: pre;background: #fff0;line-height: 1.1;font-family: &quot;Courier New&quot;,Courier,monospace\">                   \n",
       "input_0: ──■───────\n",
       "           │       \n",
       "input_1: ──┼────■──\n",
       "         ┌─┴─┐┌─┴─┐\n",
       " output: ┤ X ├┤ X ├\n",
       "         └───┘└───┘</pre>"
      ],
      "text/plain": [
       "                   \n",
       "input_0: ──■───────\n",
       "           │       \n",
       "input_1: ──┼────■──\n",
       "         ┌─┴─┐┌─┴─┐\n",
       " output: ┤ X ├┤ X ├\n",
       "         └───┘└───┘"
      ]
     },
     "execution_count": 243,
     "metadata": {},
     "output_type": "execute_result"
    }
   ],
   "source": [
    "# We will use separate registers to name the bits\n",
    "in_qubits = QuantumRegister(2, name='input')\n",
    "out_qubit = QuantumRegister(1, name='output')\n",
    "qc = QuantumCircuit(in_qubits, out_qubit)\n",
    "XOR(qc, in_qubits[0], in_qubits[1], out_qubit)\n",
    "qc.draw()"
   ]
  },
  {
   "cell_type": "code",
   "execution_count": 244,
   "metadata": {},
   "outputs": [
    {
     "data": {
      "text/html": [
       "<pre style=\"word-wrap: normal;white-space: pre;background: #fff0;line-height: 1.1;font-family: &quot;Courier New&quot;,Courier,monospace\">                                             \n",
       "v_0: ──■─────────■───────────────────────────\n",
       "       │         │                           \n",
       "v_1: ──┼────■────┼─────────■─────────────────\n",
       "       │    │    │         │                 \n",
       "v_2: ──┼────┼────┼────■────┼─────────■───────\n",
       "       │    │    │    │    │         │       \n",
       "v_3: ──┼────┼────┼────┼────┼────■────┼────■──\n",
       "     ┌─┴─┐┌─┴─┐  │    │    │    │    │    │  \n",
       "c_0: ┤ X ├┤ X ├──┼────┼────┼────┼────┼────┼──\n",
       "     └───┘└───┘┌─┴─┐┌─┴─┐  │    │    │    │  \n",
       "c_1: ──────────┤ X ├┤ X ├──┼────┼────┼────┼──\n",
       "               └───┘└───┘┌─┴─┐┌─┴─┐  │    │  \n",
       "c_2: ────────────────────┤ X ├┤ X ├──┼────┼──\n",
       "                         └───┘└───┘┌─┴─┐┌─┴─┐\n",
       "c_3: ──────────────────────────────┤ X ├┤ X ├\n",
       "                                   └───┘└───┘</pre>"
      ],
      "text/plain": [
       "                                             \n",
       "v_0: ──■─────────■───────────────────────────\n",
       "       │         │                           \n",
       "v_1: ──┼────■────┼─────────■─────────────────\n",
       "       │    │    │         │                 \n",
       "v_2: ──┼────┼────┼────■────┼─────────■───────\n",
       "       │    │    │    │    │         │       \n",
       "v_3: ──┼────┼────┼────┼────┼────■────┼────■──\n",
       "     ┌─┴─┐┌─┴─┐  │    │    │    │    │    │  \n",
       "c_0: ┤ X ├┤ X ├──┼────┼────┼────┼────┼────┼──\n",
       "     └───┘└───┘┌─┴─┐┌─┴─┐  │    │    │    │  \n",
       "c_1: ──────────┤ X ├┤ X ├──┼────┼────┼────┼──\n",
       "               └───┘└───┘┌─┴─┐┌─┴─┐  │    │  \n",
       "c_2: ────────────────────┤ X ├┤ X ├──┼────┼──\n",
       "                         └───┘└───┘┌─┴─┐┌─┴─┐\n",
       "c_3: ──────────────────────────────┤ X ├┤ X ├\n",
       "                                   └───┘└───┘"
      ]
     },
     "execution_count": 244,
     "metadata": {},
     "output_type": "execute_result"
    }
   ],
   "source": [
    "# Create separate registers to name bits\n",
    "var_qubits = QuantumRegister(4, name='v')  # variable bits\n",
    "clause_qubits = QuantumRegister(4, name='c')  # bits to store clause-checks\n",
    "\n",
    "# Create quantum circuit\n",
    "qc = QuantumCircuit(var_qubits, clause_qubits)\n",
    "\n",
    "# Use XOR gate to check each clause\n",
    "i = 0\n",
    "for clause in clause_list:\n",
    "    XOR(qc, clause[0], clause[1], clause_qubits[i])\n",
    "    i += 1\n",
    "\n",
    "# Create separate registers to name bits\n",
    "var_qubits = QuantumRegister(4, name='v')\n",
    "clause_qubits = QuantumRegister(4, name='c')\n",
    "output_qubit = QuantumRegister(1, name='out')\n",
    "qc = QuantumCircuit(var_qubits, clause_qubits, output_qubit)\n",
    "\n",
    "# Compute clauses\n",
    "i = 0\n",
    "for clause in clause_list:\n",
    "    XOR(qc, clause[0], clause[1], clause_qubits[i])\n",
    "    i += 1\n",
    "\n",
    "# Flip 'output' bit if all clauses are satisfied\n",
    "qc.mct(clause_qubits, output_qubit)\n",
    "\n",
    "qc.draw()"
   ]
  },
  {
   "cell_type": "code",
   "execution_count": 245,
   "metadata": {},
   "outputs": [
    {
     "data": {
      "text/html": [
       "<pre style=\"word-wrap: normal;white-space: pre;background: #fff0;line-height: 1.1;font-family: &quot;Courier New&quot;,Courier,monospace\">                                                                               »\n",
       "    v_0: ──■─────────■──────────────────────────────────■─────────■────────────»\n",
       "           │         │                                  │         │            »\n",
       "    v_1: ──┼────■────┼─────────■────────────────────────┼────■────┼─────────■──»\n",
       "           │    │    │         │                        │    │    │         │  »\n",
       "    v_2: ──┼────┼────┼────■────┼─────────■──────────────┼────┼────┼────■────┼──»\n",
       "           │    │    │    │    │         │              │    │    │    │    │  »\n",
       "    v_3: ──┼────┼────┼────┼────┼────■────┼────■─────────┼────┼────┼────┼────┼──»\n",
       "         ┌─┴─┐┌─┴─┐  │    │    │    │    │    │       ┌─┴─┐┌─┴─┐  │    │    │  »\n",
       "    c_0: ┤ X ├┤ X ├──┼────┼────┼────┼────┼────┼────■──┤ X ├┤ X ├──┼────┼────┼──»\n",
       "         └───┘└───┘┌─┴─┐┌─┴─┐  │    │    │    │    │  └───┘└───┘┌─┴─┐┌─┴─┐  │  »\n",
       "    c_1: ──────────┤ X ├┤ X ├──┼────┼────┼────┼────■────────────┤ X ├┤ X ├──┼──»\n",
       "                   └───┘└───┘┌─┴─┐┌─┴─┐  │    │    │            └───┘└───┘┌─┴─┐»\n",
       "    c_2: ────────────────────┤ X ├┤ X ├──┼────┼────■──────────────────────┤ X ├»\n",
       "                             └───┘└───┘┌─┴─┐┌─┴─┐  │                      └───┘»\n",
       "    c_3: ──────────────────────────────┤ X ├┤ X ├──■───────────────────────────»\n",
       "                                       └───┘└───┘┌─┴─┐                         »\n",
       "    out: ────────────────────────────────────────┤ X ├─────────────────────────»\n",
       "                                                 └───┘                         »\n",
       "cbits: 4/══════════════════════════════════════════════════════════════════════»\n",
       "                                                                               »\n",
       "«                        \n",
       "«    v_0: ───────────────\n",
       "«                        \n",
       "«    v_1: ───────────────\n",
       "«                        \n",
       "«    v_2: ───────■───────\n",
       "«                │       \n",
       "«    v_3: ──■────┼────■──\n",
       "«           │    │    │  \n",
       "«    c_0: ──┼────┼────┼──\n",
       "«           │    │    │  \n",
       "«    c_1: ──┼────┼────┼──\n",
       "«         ┌─┴─┐  │    │  \n",
       "«    c_2: ┤ X ├──┼────┼──\n",
       "«         └───┘┌─┴─┐┌─┴─┐\n",
       "«    c_3: ─────┤ X ├┤ X ├\n",
       "«              └───┘└───┘\n",
       "«    out: ───────────────\n",
       "«                        \n",
       "«cbits: 4/═══════════════\n",
       "«                        </pre>"
      ],
      "text/plain": [
       "                                                                               »\n",
       "    v_0: ──■─────────■──────────────────────────────────■─────────■────────────»\n",
       "           │         │                                  │         │            »\n",
       "    v_1: ──┼────■────┼─────────■────────────────────────┼────■────┼─────────■──»\n",
       "           │    │    │         │                        │    │    │         │  »\n",
       "    v_2: ──┼────┼────┼────■────┼─────────■──────────────┼────┼────┼────■────┼──»\n",
       "           │    │    │    │    │         │              │    │    │    │    │  »\n",
       "    v_3: ──┼────┼────┼────┼────┼────■────┼────■─────────┼────┼────┼────┼────┼──»\n",
       "         ┌─┴─┐┌─┴─┐  │    │    │    │    │    │       ┌─┴─┐┌─┴─┐  │    │    │  »\n",
       "    c_0: ┤ X ├┤ X ├──┼────┼────┼────┼────┼────┼────■──┤ X ├┤ X ├──┼────┼────┼──»\n",
       "         └───┘└───┘┌─┴─┐┌─┴─┐  │    │    │    │    │  └───┘└───┘┌─┴─┐┌─┴─┐  │  »\n",
       "    c_1: ──────────┤ X ├┤ X ├──┼────┼────┼────┼────■────────────┤ X ├┤ X ├──┼──»\n",
       "                   └───┘└───┘┌─┴─┐┌─┴─┐  │    │    │            └───┘└───┘┌─┴─┐»\n",
       "    c_2: ────────────────────┤ X ├┤ X ├──┼────┼────■──────────────────────┤ X ├»\n",
       "                             └───┘└───┘┌─┴─┐┌─┴─┐  │                      └───┘»\n",
       "    c_3: ──────────────────────────────┤ X ├┤ X ├──■───────────────────────────»\n",
       "                                       └───┘└───┘┌─┴─┐                         »\n",
       "    out: ────────────────────────────────────────┤ X ├─────────────────────────»\n",
       "                                                 └───┘                         »\n",
       "cbits: 4/══════════════════════════════════════════════════════════════════════»\n",
       "                                                                               »\n",
       "«                        \n",
       "«    v_0: ───────────────\n",
       "«                        \n",
       "«    v_1: ───────────────\n",
       "«                        \n",
       "«    v_2: ───────■───────\n",
       "«                │       \n",
       "«    v_3: ──■────┼────■──\n",
       "«           │    │    │  \n",
       "«    c_0: ──┼────┼────┼──\n",
       "«           │    │    │  \n",
       "«    c_1: ──┼────┼────┼──\n",
       "«         ┌─┴─┐  │    │  \n",
       "«    c_2: ┤ X ├──┼────┼──\n",
       "«         └───┘┌─┴─┐┌─┴─┐\n",
       "«    c_3: ─────┤ X ├┤ X ├\n",
       "«              └───┘└───┘\n",
       "«    out: ───────────────\n",
       "«                        \n",
       "«cbits: 4/═══════════════\n",
       "«                        "
      ]
     },
     "execution_count": 245,
     "metadata": {},
     "output_type": "execute_result"
    }
   ],
   "source": [
    "var_qubits = QuantumRegister(4, name='v')\n",
    "clause_qubits = QuantumRegister(4, name='c')\n",
    "output_qubit = QuantumRegister(1, name='out')\n",
    "cbits = ClassicalRegister(4, name='cbits')\n",
    "qc = QuantumCircuit(var_qubits, clause_qubits, output_qubit, cbits)\n",
    "\n",
    "def sudoku_oracle(qc, clause_list, clause_qubits):\n",
    "    # Compute clauses\n",
    "    i = 0\n",
    "    for clause in clause_list:\n",
    "        XOR(qc, clause[0], clause[1], clause_qubits[i])\n",
    "        i += 1\n",
    "\n",
    "    # Flip 'output' bit if all clauses are satisfied\n",
    "    qc.mct(clause_qubits, output_qubit)\n",
    "\n",
    "    # Uncompute clauses to reset clause-checking bits to 0\n",
    "    i = 0\n",
    "    for clause in clause_list:\n",
    "        XOR(qc, clause[0], clause[1], clause_qubits[i])\n",
    "        i += 1\n",
    "sudoku_oracle(qc, clause_list, clause_qubits)\n",
    "qc.draw()"
   ]
  },
  {
   "cell_type": "code",
   "execution_count": 246,
   "metadata": {},
   "outputs": [
    {
     "data": {
      "text/html": [
       "<pre style=\"word-wrap: normal;white-space: pre;background: #fff0;line-height: 1.1;font-family: &quot;Courier New&quot;,Courier,monospace\">                      ┌───┐               ░                                                                                       ░ ┌────────┐                                                                                      ░ ┌────────┐┌─┐         \n",
       "    v_0: ─────────────┤ H ├───────────────░───■─────────■──────────────────────────────────■─────────■────────────────────────────░─┤0       ├──■─────────■──────────────────────────────────■─────────■────────────────────────────░─┤0       ├┤M├─────────\n",
       "                      ├───┤               ░   │         │                                  │         │                            ░ │        │  │         │                                  │         │                            ░ │        │└╥┘┌─┐      \n",
       "    v_1: ─────────────┤ H ├───────────────░───┼────■────┼─────────■────────────────────────┼────■────┼─────────■──────────────────░─┤1       ├──┼────■────┼─────────■────────────────────────┼────■────┼─────────■──────────────────░─┤1       ├─╫─┤M├──────\n",
       "                      ├───┤               ░   │    │    │         │                        │    │    │         │                  ░ │  U$_s$ │  │    │    │         │                        │    │    │         │                  ░ │  U$_s$ │ ║ └╥┘┌─┐   \n",
       "    v_2: ─────────────┤ H ├───────────────░───┼────┼────┼────■────┼─────────■──────────────┼────┼────┼────■────┼─────────■────────░─┤2       ├──┼────┼────┼────■────┼─────────■──────────────┼────┼────┼────■────┼─────────■────────░─┤2       ├─╫──╫─┤M├───\n",
       "                      ├───┤               ░   │    │    │    │    │         │              │    │    │    │    │         │        ░ │        │  │    │    │    │    │         │              │    │    │    │    │         │        ░ │        │ ║  ║ └╥┘┌─┐\n",
       "    v_3: ─────────────┤ H ├───────────────░───┼────┼────┼────┼────┼────■────┼────■─────────┼────┼────┼────┼────┼────■────┼────■───░─┤3       ├──┼────┼────┼────┼────┼────■────┼────■─────────┼────┼────┼────┼────┼────■────┼────■───░─┤3       ├─╫──╫──╫─┤M├\n",
       "                      └───┘               ░ ┌─┴─┐┌─┴─┐  │    │    │    │    │    │       ┌─┴─┐┌─┴─┐  │    │    │    │    │    │   ░ └────────┘┌─┴─┐┌─┴─┐  │    │    │    │    │    │       ┌─┴─┐┌─┴─┐  │    │    │    │    │    │   ░ └────────┘ ║  ║  ║ └╥┘\n",
       "    c_0: ─────────────────────────────────░─┤ X ├┤ X ├──┼────┼────┼────┼────┼────┼────■──┤ X ├┤ X ├──┼────┼────┼────┼────┼────┼───░───────────┤ X ├┤ X ├──┼────┼────┼────┼────┼────┼────■──┤ X ├┤ X ├──┼────┼────┼────┼────┼────┼───░────────────╫──╫──╫──╫─\n",
       "                                          ░ └───┘└───┘┌─┴─┐┌─┴─┐  │    │    │    │    │  └───┘└───┘┌─┴─┐┌─┴─┐  │    │    │    │   ░           └───┘└───┘┌─┴─┐┌─┴─┐  │    │    │    │    │  └───┘└───┘┌─┴─┐┌─┴─┐  │    │    │    │   ░            ║  ║  ║  ║ \n",
       "    c_1: ─────────────────────────────────░───────────┤ X ├┤ X ├──┼────┼────┼────┼────■────────────┤ X ├┤ X ├──┼────┼────┼────┼───░─────────────────────┤ X ├┤ X ├──┼────┼────┼────┼────■────────────┤ X ├┤ X ├──┼────┼────┼────┼───░────────────╫──╫──╫──╫─\n",
       "                                          ░           └───┘└───┘┌─┴─┐┌─┴─┐  │    │    │            └───┘└───┘┌─┴─┐┌─┴─┐  │    │   ░                     └───┘└───┘┌─┴─┐┌─┴─┐  │    │    │            └───┘└───┘┌─┴─┐┌─┴─┐  │    │   ░            ║  ║  ║  ║ \n",
       "    c_2: ─────────────────────────────────░─────────────────────┤ X ├┤ X ├──┼────┼────■──────────────────────┤ X ├┤ X ├──┼────┼───░───────────────────────────────┤ X ├┤ X ├──┼────┼────■──────────────────────┤ X ├┤ X ├──┼────┼───░────────────╫──╫──╫──╫─\n",
       "                                          ░                     └───┘└───┘┌─┴─┐┌─┴─┐  │                      └───┘└───┘┌─┴─┐┌─┴─┐ ░                               └───┘└───┘┌─┴─┐┌─┴─┐  │                      └───┘└───┘┌─┴─┐┌─┴─┐ ░            ║  ║  ║  ║ \n",
       "    c_3: ─────────────────────────────────░───────────────────────────────┤ X ├┤ X ├──■────────────────────────────────┤ X ├┤ X ├─░─────────────────────────────────────────┤ X ├┤ X ├──■────────────────────────────────┤ X ├┤ X ├─░────────────╫──╫──╫──╫─\n",
       "         ┌──────────────────────────────┐ ░                               └───┘└───┘┌─┴─┐                              └───┘└───┘ ░                                         └───┘└───┘┌─┴─┐                              └───┘└───┘ ░            ║  ║  ║  ║ \n",
       "    out: ┤ Initialize(0.70711,-0.70711) ├─░─────────────────────────────────────────┤ X ├─────────────────────────────────────────░───────────────────────────────────────────────────┤ X ├─────────────────────────────────────────░────────────╫──╫──╫──╫─\n",
       "         └──────────────────────────────┘ ░                                         └───┘                                         ░                                                   └───┘                                         ░            ║  ║  ║  ║ \n",
       "cbits: 4/════════════════════════════════════════════════════════════════════════════════════════════════════════════════════════════════════════════════════════════════════════════════════════════════════════════════════════════════════════╩══╩══╩══╩═\n",
       "                                                                                                                                                                                                                                                 0  1  2  3 </pre>"
      ],
      "text/plain": [
       "                      ┌───┐               ░                                                                                       ░ ┌────────┐                                                                                      ░ ┌────────┐┌─┐         \n",
       "    v_0: ─────────────┤ H ├───────────────░───■─────────■──────────────────────────────────■─────────■────────────────────────────░─┤0       ├──■─────────■──────────────────────────────────■─────────■────────────────────────────░─┤0       ├┤M├─────────\n",
       "                      ├───┤               ░   │         │                                  │         │                            ░ │        │  │         │                                  │         │                            ░ │        │└╥┘┌─┐      \n",
       "    v_1: ─────────────┤ H ├───────────────░───┼────■────┼─────────■────────────────────────┼────■────┼─────────■──────────────────░─┤1       ├──┼────■────┼─────────■────────────────────────┼────■────┼─────────■──────────────────░─┤1       ├─╫─┤M├──────\n",
       "                      ├───┤               ░   │    │    │         │                        │    │    │         │                  ░ │  U$_s$ │  │    │    │         │                        │    │    │         │                  ░ │  U$_s$ │ ║ └╥┘┌─┐   \n",
       "    v_2: ─────────────┤ H ├───────────────░───┼────┼────┼────■────┼─────────■──────────────┼────┼────┼────■────┼─────────■────────░─┤2       ├──┼────┼────┼────■────┼─────────■──────────────┼────┼────┼────■────┼─────────■────────░─┤2       ├─╫──╫─┤M├───\n",
       "                      ├───┤               ░   │    │    │    │    │         │              │    │    │    │    │         │        ░ │        │  │    │    │    │    │         │              │    │    │    │    │         │        ░ │        │ ║  ║ └╥┘┌─┐\n",
       "    v_3: ─────────────┤ H ├───────────────░───┼────┼────┼────┼────┼────■────┼────■─────────┼────┼────┼────┼────┼────■────┼────■───░─┤3       ├──┼────┼────┼────┼────┼────■────┼────■─────────┼────┼────┼────┼────┼────■────┼────■───░─┤3       ├─╫──╫──╫─┤M├\n",
       "                      └───┘               ░ ┌─┴─┐┌─┴─┐  │    │    │    │    │    │       ┌─┴─┐┌─┴─┐  │    │    │    │    │    │   ░ └────────┘┌─┴─┐┌─┴─┐  │    │    │    │    │    │       ┌─┴─┐┌─┴─┐  │    │    │    │    │    │   ░ └────────┘ ║  ║  ║ └╥┘\n",
       "    c_0: ─────────────────────────────────░─┤ X ├┤ X ├──┼────┼────┼────┼────┼────┼────■──┤ X ├┤ X ├──┼────┼────┼────┼────┼────┼───░───────────┤ X ├┤ X ├──┼────┼────┼────┼────┼────┼────■──┤ X ├┤ X ├──┼────┼────┼────┼────┼────┼───░────────────╫──╫──╫──╫─\n",
       "                                          ░ └───┘└───┘┌─┴─┐┌─┴─┐  │    │    │    │    │  └───┘└───┘┌─┴─┐┌─┴─┐  │    │    │    │   ░           └───┘└───┘┌─┴─┐┌─┴─┐  │    │    │    │    │  └───┘└───┘┌─┴─┐┌─┴─┐  │    │    │    │   ░            ║  ║  ║  ║ \n",
       "    c_1: ─────────────────────────────────░───────────┤ X ├┤ X ├──┼────┼────┼────┼────■────────────┤ X ├┤ X ├──┼────┼────┼────┼───░─────────────────────┤ X ├┤ X ├──┼────┼────┼────┼────■────────────┤ X ├┤ X ├──┼────┼────┼────┼───░────────────╫──╫──╫──╫─\n",
       "                                          ░           └───┘└───┘┌─┴─┐┌─┴─┐  │    │    │            └───┘└───┘┌─┴─┐┌─┴─┐  │    │   ░                     └───┘└───┘┌─┴─┐┌─┴─┐  │    │    │            └───┘└───┘┌─┴─┐┌─┴─┐  │    │   ░            ║  ║  ║  ║ \n",
       "    c_2: ─────────────────────────────────░─────────────────────┤ X ├┤ X ├──┼────┼────■──────────────────────┤ X ├┤ X ├──┼────┼───░───────────────────────────────┤ X ├┤ X ├──┼────┼────■──────────────────────┤ X ├┤ X ├──┼────┼───░────────────╫──╫──╫──╫─\n",
       "                                          ░                     └───┘└───┘┌─┴─┐┌─┴─┐  │                      └───┘└───┘┌─┴─┐┌─┴─┐ ░                               └───┘└───┘┌─┴─┐┌─┴─┐  │                      └───┘└───┘┌─┴─┐┌─┴─┐ ░            ║  ║  ║  ║ \n",
       "    c_3: ─────────────────────────────────░───────────────────────────────┤ X ├┤ X ├──■────────────────────────────────┤ X ├┤ X ├─░─────────────────────────────────────────┤ X ├┤ X ├──■────────────────────────────────┤ X ├┤ X ├─░────────────╫──╫──╫──╫─\n",
       "         ┌──────────────────────────────┐ ░                               └───┘└───┘┌─┴─┐                              └───┘└───┘ ░                                         └───┘└───┘┌─┴─┐                              └───┘└───┘ ░            ║  ║  ║  ║ \n",
       "    out: ┤ Initialize(0.70711,-0.70711) ├─░─────────────────────────────────────────┤ X ├─────────────────────────────────────────░───────────────────────────────────────────────────┤ X ├─────────────────────────────────────────░────────────╫──╫──╫──╫─\n",
       "         └──────────────────────────────┘ ░                                         └───┘                                         ░                                                   └───┘                                         ░            ║  ║  ║  ║ \n",
       "cbits: 4/════════════════════════════════════════════════════════════════════════════════════════════════════════════════════════════════════════════════════════════════════════════════════════════════════════════════════════════════════════╩══╩══╩══╩═\n",
       "                                                                                                                                                                                                                                                 0  1  2  3 "
      ]
     },
     "execution_count": 246,
     "metadata": {},
     "output_type": "execute_result"
    }
   ],
   "source": [
    "var_qubits = QuantumRegister(4, name='v')\n",
    "clause_qubits = QuantumRegister(4, name='c')\n",
    "output_qubit = QuantumRegister(1, name='out')\n",
    "cbits = ClassicalRegister(4, name='cbits')\n",
    "qc = QuantumCircuit(var_qubits, clause_qubits, output_qubit, cbits)\n",
    "\n",
    "# Initialize 'out0' in state |->\n",
    "qc.initialize([1, -1]/np.sqrt(2), output_qubit)\n",
    "\n",
    "# Initialize qubits in state |s>\n",
    "qc.h(var_qubits)\n",
    "qc.barrier()  # for visual separation\n",
    "\n",
    "## First Iteration\n",
    "# Apply our oracle\n",
    "sudoku_oracle(qc, clause_list, clause_qubits)\n",
    "qc.barrier()  # for visual separation\n",
    "# Apply our diffuser\n",
    "qc.append(diffuser(4), [0,1,2,3])\n",
    "\n",
    "## Second Iteration\n",
    "sudoku_oracle(qc, clause_list, clause_qubits)\n",
    "qc.barrier()  # for visual separation\n",
    "# Apply our diffuser\n",
    "qc.append(diffuser(4), [0,1,2,3])\n",
    "\n",
    "# Measure the variable qubits\n",
    "qc.measure(var_qubits, cbits)\n",
    "\n",
    "qc.draw(fold=-1)"
   ]
  },
  {
   "cell_type": "code",
   "execution_count": 247,
   "metadata": {},
   "outputs": [
    {
     "data": {
      "image/png": "[encoded data removed]",
      "text/plain": [
       "<Figure size 700x500 with 1 Axes>"
      ]
     },
     "execution_count": 247,
     "metadata": {},
     "output_type": "execute_result"
    }
   ],
   "source": [
    "# Simulate and plot results\n",
    "qasm_simulator = Aer.get_backend('qasm_simulator')\n",
    "transpiled_qc = transpile(qc, qasm_simulator)\n",
    "result = qasm_sim.run(transpiled_qc).result()\n",
    "plot_histogram(result.get_counts())"
   ]
  },
  {
   "attachments": {},
   "cell_type": "markdown",
   "metadata": {},
   "source": [
    "## Triangle Finding Problem Using Grover"
   ]
  },
  {
   "cell_type": "code",
   "execution_count": 258,
   "metadata": {},
   "outputs": [],
   "source": [
    "#Edges list\n",
    "edges =[(0, 1), (0, 2), (1, 2), (2, 3)]\n",
    "#Number of nodes\n",
    "n_nodes = 4"
   ]
  },
  {
   "cell_type": "code",
   "execution_count": 259,
   "metadata": {},
   "outputs": [],
   "source": [
    "#We used the W state implementation from W state in reference 6\n",
    "def control_rotation (qcir,cQbit,tQbit,theta):\n",
    "    \"\"\" Create an intermediate controlled rotation using only unitary gate and controlled-NOT\n",
    "    \n",
    "    Args:\n",
    "    qcir: QuantumCircuit instance to apply the controlled rotation to.\n",
    "    cQbit: control qubit. \n",
    "    tQbit: target qubit.\n",
    "    theta: rotation angle.\n",
    "    \n",
    "    Returns:\n",
    "    A modified version of the QuantumCircuit instance with control rotation applied.\n",
    "    \n",
    "    \"\"\"\n",
    "    theta_dash = math.asin(math.cos(math.radians(theta/2)))\n",
    "    qcir.u(theta_dash,0,0,tQbit)\n",
    "    qcir.cx(cQbit,tQbit)\n",
    "    qcir.u(-theta_dash,0,0,tQbit)\n",
    "    return qcir"
   ]
  },
  {
   "cell_type": "code",
   "execution_count": 260,
   "metadata": {},
   "outputs": [],
   "source": [
    "def wn (qcir,qbits): \n",
    "    \"\"\" Create the W-state using the control-rotation function.\n",
    "    \n",
    "    Args:\n",
    "    qcir: QuantumCircuit instance used to construct the W-state.\n",
    "    qbits: the qubits used to construct the W-state.\n",
    "    \n",
    "    Returns:\n",
    "    A modified version of the QuantumCircuit instance with the W-state construction gates.\n",
    "    \n",
    "    \"\"\"\n",
    "    for i in range(len(qbits)):\n",
    "        if i == 0:\n",
    "            qcir.x(qbits[0])\n",
    "            qcir.barrier()\n",
    "        else:\n",
    "            p = 1/(len(qbits)-(i-1))\n",
    "            theta = math.degrees(math.acos(math.sqrt(p)))\n",
    "            theta = 2* theta\n",
    "            qcir = control_rotation(qcir,qbits[i-1],qbits[i],theta)\n",
    "            qcir.cx(qbits[i],qbits[i-1])\n",
    "            qcir.barrier()\n",
    "    return qcir,qbits"
   ]
  },
  {
   "cell_type": "code",
   "execution_count": 261,
   "metadata": {},
   "outputs": [],
   "source": [
    "sub_qbits = QuantumRegister(n_nodes)\n",
    "sub_cir = QuantumCircuit(sub_qbits, name=\"state_prep\")\n",
    "sub_cir, sub_qbits = wn(sub_cir, sub_qbits)\n",
    "sub_cir.x(sub_qbits)\n",
    "stat_prep = sub_cir.to_instruction()\n",
    "inv_stat_prep = sub_cir.inverse().to_instruction()"
   ]
  },
  {
   "cell_type": "code",
   "execution_count": 262,
   "metadata": {},
   "outputs": [],
   "source": [
    "def edge_counter(qc,qubits,anc,flag_qubit,k):\n",
    "    bin_k = bin(k)[2:][::-1]\n",
    "    l = []\n",
    "    for i in range(len(bin_k)):\n",
    "        if int(bin_k[i]) == 1:\n",
    "            l.append(qubits[i])\n",
    "    qc.mct(l,flag_qubit,[anc])"
   ]
  },
  {
   "cell_type": "code",
   "execution_count": 263,
   "metadata": {},
   "outputs": [],
   "source": [
    "def oracle(n_nodes, edges, qc, nodes_qubits, edge_anc, ancilla, neg_base):\n",
    "    k = 3 #k is the number of edges, in case of a triangle, it's 3\n",
    "    #1- edge counter\n",
    "    #forward circuit\n",
    "    qc.barrier()\n",
    "    qc.ccx(nodes_qubits[edges[0][0] ],nodes_qubits[edges[0][1] ],edge_anc[0])\n",
    "    for i in range(1,len(edges)):\n",
    "        qc.mct([nodes_qubits[edges[i][0] ],nodes_qubits[edges[i][1] ],edge_anc[0] ], edge_anc[1], [ancilla[0] ])\n",
    "        qc.ccx(nodes_qubits[edges[i][0] ],nodes_qubits[edges[i][1] ],edge_anc[0])\n",
    "    #----------------------------------------------------------------------------------------------------------\n",
    "     #Edges check Qubit\n",
    "    edg_k = int((k/2)*(k-1))\n",
    "    edge_counter(qc,edge_anc,ancilla[0],neg_base[0],edg_k)\n",
    "    #----------------------------------------------------------------------------------------------------------\n",
    "\n",
    "    #4- Reverse edge count\n",
    "    for i in range(len(edges)-1,0,-1):\n",
    "        qc.ccx(nodes_qubits[edges[i][0] ],nodes_qubits[edges[i][1] ],edge_anc[0])\n",
    "        qc.mct([nodes_qubits[edges[i][0] ],nodes_qubits[edges[i][1] ],edge_anc[0] ], edge_anc[1], [ancilla[0] ])\n",
    "    qc.ccx(nodes_qubits[edges[0][0] ],nodes_qubits[edges[0][1] ],edge_anc[0])\n",
    "    qc.barrier()"
   ]
  },
  {
   "cell_type": "code",
   "execution_count": 265,
   "metadata": {},
   "outputs": [],
   "source": [
    "#Diffusion Operator\n",
    "def cnz(qc, num_control, node, anc):\n",
    "    \"\"\"Construct a multi-controlled Z gate\n",
    "    \n",
    "    Args:\n",
    "    num_control :  number of control qubits of cnz gate\n",
    "    node :             node qubits\n",
    "    anc :               ancillaly qubits\n",
    "    \"\"\"\n",
    "    if num_control>2:\n",
    "        qc.ccx(node[0], node[1], anc[0])\n",
    "        for i in range(num_control-2):\n",
    "            qc.ccx(node[i+2], anc[i], anc[i+1])\n",
    "        qc.cz(anc[num_control-2], node[num_control])\n",
    "        for i in range(num_control-2)[::-1]:\n",
    "            qc.ccx(node[i+2], anc[i], anc[i+1])\n",
    "        qc.ccx(node[0], node[1], anc[0])\n",
    "    if num_control==2:\n",
    "        qc.h(node[2])\n",
    "        qc.ccx(node[0], node[1], node[2])\n",
    "        qc.h(node[2])\n",
    "    if num_control==1:\n",
    "        qc.cz(node[0], node[1])"
   ]
  },
  {
   "cell_type": "code",
   "execution_count": 266,
   "metadata": {},
   "outputs": [],
   "source": [
    "def grover_diff(qc, nodes_qubits,edge_anc,ancilla,stat_prep,inv_stat_prep):\n",
    "    qc.append(inv_stat_prep,qargs=nodes_qubits)\n",
    "    qc.x(nodes_qubits)\n",
    "    #====================================================\n",
    "        #3 control qubits Z gate\n",
    "    cnz(qc,len(nodes_qubits)-1,nodes_qubits[::-1],ancilla)\n",
    "    #====================================================\n",
    "    qc.x(nodes_qubits)\n",
    "    qc.append(stat_prep,qargs=nodes_qubits)"
   ]
  },
  {
   "cell_type": "code",
   "execution_count": 267,
   "metadata": {},
   "outputs": [],
   "source": [
    "# Grover algo function\n",
    "def grover(n_nodes,stat_prep,inv_stat_prep):\n",
    "    #N = 2**n_nodes  # for optimal iterations count if the state prep is done using only H gates.\n",
    "    N = math.comb(n_nodes, 3) #Since we are using W-state to perform initial preparation.\n",
    "    nodes_qubits = QuantumRegister(n_nodes, name='nodes')\n",
    "    edge_anc = QuantumRegister(2, name='edge_anc')\n",
    "    ancilla = QuantumRegister(n_nodes-2, name = 'cccx_diff_anc')\n",
    "    neg_base = QuantumRegister(1, name='check_qubits')\n",
    "    class_bits = ClassicalRegister(n_nodes, name='class_reg')\n",
    "    tri_flag = ClassicalRegister(3, name='tri_flag')\n",
    "    qc = QuantumCircuit(nodes_qubits, edge_anc, ancilla, neg_base, class_bits, tri_flag)\n",
    "    # Initialize qunatum flag qubits in |-> state\n",
    "    qc.x(neg_base[0])\n",
    "    qc.h(neg_base[0])\n",
    "    # Initializing i/p qubits in superposition\n",
    "    qc.append(stat_prep,qargs=nodes_qubits)\n",
    "    qc.barrier()\n",
    "    # Calculate iteration count\n",
    "    iterations = math.floor(math.pi/4*math.sqrt(N))\n",
    "    # Calculate iteration count\n",
    "    for i in np.arange(iterations):\n",
    "        qc.barrier()\n",
    "        oracle(n_nodes, edges, qc, nodes_qubits, edge_anc,  ancilla, neg_base)\n",
    "        qc.barrier()\n",
    "        grover_diff(qc, nodes_qubits,edge_anc,ancilla,stat_prep,inv_stat_prep)\n",
    "    qc.measure(nodes_qubits,class_bits)\n",
    "    return qc"
   ]
  },
  {
   "cell_type": "code",
   "execution_count": 268,
   "metadata": {},
   "outputs": [
    {
     "data": {
      "text/html": [
       "<pre style=\"word-wrap: normal;white-space: pre;background: #fff0;line-height: 1.1;font-family: &quot;Courier New&quot;,Courier,monospace\">                 ┌─────────────┐      ░  ░  ░                               »\n",
       "        nodes_0: ┤0            ├──────░──░──░───■────■────■─────────────────»\n",
       "                 │             │      ░  ░  ░   │    │    │                 »\n",
       "        nodes_1: ┤1            ├──────░──░──░───■────┼────┼────■────■───────»\n",
       "                 │  state_prep │      ░  ░  ░   │    │    │    │    │       »\n",
       "        nodes_2: ┤2            ├──────░──░──░───┼────■────■────■────■────■──»\n",
       "                 │             │      ░  ░  ░   │    │    │    │    │    │  »\n",
       "        nodes_3: ┤3            ├──────░──░──░───┼────┼────┼────┼────┼────■──»\n",
       "                 └─────────────┘      ░  ░  ░ ┌─┴─┐  │  ┌─┴─┐  │  ┌─┴─┐  │  »\n",
       "     edge_anc_0: ─────────────────────░──░──░─┤ X ├──■──┤ X ├──■──┤ X ├──■──»\n",
       "                                      ░  ░  ░ └───┘┌─┴─┐└───┘┌─┴─┐└───┘┌─┴─┐»\n",
       "     edge_anc_1: ─────────────────────░──░──░──────┤ X ├─────┤ X ├─────┤ X ├»\n",
       "                                      ░  ░  ░      └───┘     └───┘     └───┘»\n",
       "cccx_diff_anc_0: ─────────────────────░──░──░───────────────────────────────»\n",
       "                                      ░  ░  ░                               »\n",
       "cccx_diff_anc_1: ─────────────────────░──░──░───────────────────────────────»\n",
       "                      ┌───┐     ┌───┐ ░  ░  ░                               »\n",
       "   check_qubits: ─────┤ X ├─────┤ H ├─░──░──░───────────────────────────────»\n",
       "                      └───┘     └───┘ ░  ░  ░                               »\n",
       "    class_reg: 4/═══════════════════════════════════════════════════════════»\n",
       "                                                                            »\n",
       "     tri_flag: 3/═══════════════════════════════════════════════════════════»\n",
       "                                                                            »\n",
       "«                                                               ░  ░ »\n",
       "«        nodes_0: ────────────────────────────────■────■────■───░──░─»\n",
       "«                                                 │    │    │   ░  ░ »\n",
       "«        nodes_1: ──────────────────────■────■────┼────┼────■───░──░─»\n",
       "«                                       │    │    │    │    │   ░  ░ »\n",
       "«        nodes_2: ──■─────────■────■────■────■────■────■────┼───░──░─»\n",
       "«                   │         │    │    │    │    │    │    │   ░  ░ »\n",
       "«        nodes_3: ──■─────────■────■────┼────┼────┼────┼────┼───░──░─»\n",
       "«                 ┌─┴─┐     ┌─┴─┐  │  ┌─┴─┐  │  ┌─┴─┐  │  ┌─┴─┐ ░  ░ »\n",
       "«     edge_anc_0: ┤ X ├──■──┤ X ├──■──┤ X ├──■──┤ X ├──■──┤ X ├─░──░─»\n",
       "«                 └───┘  │  └───┘┌─┴─┐└───┘┌─┴─┐└───┘┌─┴─┐└───┘ ░  ░ »\n",
       "«     edge_anc_1: ───────■───────┤ X ├─────┤ X ├─────┤ X ├──────░──░─»\n",
       "«                        │       └───┘     └───┘     └───┘      ░  ░ »\n",
       "«cccx_diff_anc_0: ───────┼──────────────────────────────────────░──░─»\n",
       "«                        │                                      ░  ░ »\n",
       "«cccx_diff_anc_1: ───────┼──────────────────────────────────────░──░─»\n",
       "«                      ┌─┴─┐                                    ░  ░ »\n",
       "«   check_qubits: ─────┤ X ├────────────────────────────────────░──░─»\n",
       "«                      └───┘                                    ░  ░ »\n",
       "«    class_reg: 4/═══════════════════════════════════════════════════»\n",
       "«                                                                    »\n",
       "«     tri_flag: 3/═══════════════════════════════════════════════════»\n",
       "«                                                                    »\n",
       "«                 ┌────────────────┐┌───┐             ┌───┐          »\n",
       "«        nodes_0: ┤0               ├┤ X ├───────────■─┤ X ├──────────»\n",
       "«                 │                │├───┤           │ └───┘┌───┐     »\n",
       "«        nodes_1: ┤1               ├┤ X ├───────■───┼───■──┤ X ├─────»\n",
       "«                 │  state_prep_dg │├───┤       │   │   │  └───┘┌───┐»\n",
       "«        nodes_2: ┤2               ├┤ X ├──■────┼───┼───┼────■──┤ X ├»\n",
       "«                 │                │├───┤  │    │   │   │    │  ├───┤»\n",
       "«        nodes_3: ┤3               ├┤ X ├──■────┼───┼───┼────■──┤ X ├»\n",
       "«                 └────────────────┘└───┘  │    │   │   │    │  └───┘»\n",
       "«     edge_anc_0: ─────────────────────────┼────┼───┼───┼────┼───────»\n",
       "«                                          │    │   │   │    │       »\n",
       "«     edge_anc_1: ─────────────────────────┼────┼───┼───┼────┼───────»\n",
       "«                                        ┌─┴─┐  │   │   │  ┌─┴─┐     »\n",
       "«cccx_diff_anc_0: ───────────────────────┤ X ├──■───┼───■──┤ X ├─────»\n",
       "«                                        └───┘┌─┴─┐ │ ┌─┴─┐└───┘     »\n",
       "«cccx_diff_anc_1: ────────────────────────────┤ X ├─■─┤ X ├──────────»\n",
       "«                                             └───┘   └───┘          »\n",
       "«   check_qubits: ───────────────────────────────────────────────────»\n",
       "«                                                                    »\n",
       "«    class_reg: 4/═══════════════════════════════════════════════════»\n",
       "«                                                                    »\n",
       "«     tri_flag: 3/═══════════════════════════════════════════════════»\n",
       "«                                                                    »\n",
       "«                 ┌─────────────┐┌─┐         \n",
       "«        nodes_0: ┤0            ├┤M├─────────\n",
       "«                 │             │└╥┘┌─┐      \n",
       "«        nodes_1: ┤1            ├─╫─┤M├──────\n",
       "«                 │  state_prep │ ║ └╥┘┌─┐   \n",
       "«        nodes_2: ┤2            ├─╫──╫─┤M├───\n",
       "«                 │             │ ║  ║ └╥┘┌─┐\n",
       "«        nodes_3: ┤3            ├─╫──╫──╫─┤M├\n",
       "«                 └─────────────┘ ║  ║  ║ └╥┘\n",
       "«     edge_anc_0: ────────────────╫──╫──╫──╫─\n",
       "«                                 ║  ║  ║  ║ \n",
       "«     edge_anc_1: ────────────────╫──╫──╫──╫─\n",
       "«                                 ║  ║  ║  ║ \n",
       "«cccx_diff_anc_0: ────────────────╫──╫──╫──╫─\n",
       "«                                 ║  ║  ║  ║ \n",
       "«cccx_diff_anc_1: ────────────────╫──╫──╫──╫─\n",
       "«                                 ║  ║  ║  ║ \n",
       "«   check_qubits: ────────────────╫──╫──╫──╫─\n",
       "«                                 ║  ║  ║  ║ \n",
       "«    class_reg: 4/════════════════╩══╩══╩══╩═\n",
       "«                                 0  1  2  3 \n",
       "«     tri_flag: 3/═══════════════════════════\n",
       "«                                            </pre>"
      ],
      "text/plain": [
       "                 ┌─────────────┐      ░  ░  ░                               »\n",
       "        nodes_0: ┤0            ├──────░──░──░───■────■────■─────────────────»\n",
       "                 │             │      ░  ░  ░   │    │    │                 »\n",
       "        nodes_1: ┤1            ├──────░──░──░───■────┼────┼────■────■───────»\n",
       "                 │  state_prep │      ░  ░  ░   │    │    │    │    │       »\n",
       "        nodes_2: ┤2            ├──────░──░──░───┼────■────■────■────■────■──»\n",
       "                 │             │      ░  ░  ░   │    │    │    │    │    │  »\n",
       "        nodes_3: ┤3            ├──────░──░──░───┼────┼────┼────┼────┼────■──»\n",
       "                 └─────────────┘      ░  ░  ░ ┌─┴─┐  │  ┌─┴─┐  │  ┌─┴─┐  │  »\n",
       "     edge_anc_0: ─────────────────────░──░──░─┤ X ├──■──┤ X ├──■──┤ X ├──■──»\n",
       "                                      ░  ░  ░ └───┘┌─┴─┐└───┘┌─┴─┐└───┘┌─┴─┐»\n",
       "     edge_anc_1: ─────────────────────░──░──░──────┤ X ├─────┤ X ├─────┤ X ├»\n",
       "                                      ░  ░  ░      └───┘     └───┘     └───┘»\n",
       "cccx_diff_anc_0: ─────────────────────░──░──░───────────────────────────────»\n",
       "                                      ░  ░  ░                               »\n",
       "cccx_diff_anc_1: ─────────────────────░──░──░───────────────────────────────»\n",
       "                      ┌───┐     ┌───┐ ░  ░  ░                               »\n",
       "   check_qubits: ─────┤ X ├─────┤ H ├─░──░──░───────────────────────────────»\n",
       "                      └───┘     └───┘ ░  ░  ░                               »\n",
       "    class_reg: 4/═══════════════════════════════════════════════════════════»\n",
       "                                                                            »\n",
       "     tri_flag: 3/═══════════════════════════════════════════════════════════»\n",
       "                                                                            »\n",
       "«                                                               ░  ░ »\n",
       "«        nodes_0: ────────────────────────────────■────■────■───░──░─»\n",
       "«                                                 │    │    │   ░  ░ »\n",
       "«        nodes_1: ──────────────────────■────■────┼────┼────■───░──░─»\n",
       "«                                       │    │    │    │    │   ░  ░ »\n",
       "«        nodes_2: ──■─────────■────■────■────■────■────■────┼───░──░─»\n",
       "«                   │         │    │    │    │    │    │    │   ░  ░ »\n",
       "«        nodes_3: ──■─────────■────■────┼────┼────┼────┼────┼───░──░─»\n",
       "«                 ┌─┴─┐     ┌─┴─┐  │  ┌─┴─┐  │  ┌─┴─┐  │  ┌─┴─┐ ░  ░ »\n",
       "«     edge_anc_0: ┤ X ├──■──┤ X ├──■──┤ X ├──■──┤ X ├──■──┤ X ├─░──░─»\n",
       "«                 └───┘  │  └───┘┌─┴─┐└───┘┌─┴─┐└───┘┌─┴─┐└───┘ ░  ░ »\n",
       "«     edge_anc_1: ───────■───────┤ X ├─────┤ X ├─────┤ X ├──────░──░─»\n",
       "«                        │       └───┘     └───┘     └───┘      ░  ░ »\n",
       "«cccx_diff_anc_0: ───────┼──────────────────────────────────────░──░─»\n",
       "«                        │                                      ░  ░ »\n",
       "«cccx_diff_anc_1: ───────┼──────────────────────────────────────░──░─»\n",
       "«                      ┌─┴─┐                                    ░  ░ »\n",
       "«   check_qubits: ─────┤ X ├────────────────────────────────────░──░─»\n",
       "«                      └───┘                                    ░  ░ »\n",
       "«    class_reg: 4/═══════════════════════════════════════════════════»\n",
       "«                                                                    »\n",
       "«     tri_flag: 3/═══════════════════════════════════════════════════»\n",
       "«                                                                    »\n",
       "«                 ┌────────────────┐┌───┐             ┌───┐          »\n",
       "«        nodes_0: ┤0               ├┤ X ├───────────■─┤ X ├──────────»\n",
       "«                 │                │├───┤           │ └───┘┌───┐     »\n",
       "«        nodes_1: ┤1               ├┤ X ├───────■───┼───■──┤ X ├─────»\n",
       "«                 │  state_prep_dg │├───┤       │   │   │  └───┘┌───┐»\n",
       "«        nodes_2: ┤2               ├┤ X ├──■────┼───┼───┼────■──┤ X ├»\n",
       "«                 │                │├───┤  │    │   │   │    │  ├───┤»\n",
       "«        nodes_3: ┤3               ├┤ X ├──■────┼───┼───┼────■──┤ X ├»\n",
       "«                 └────────────────┘└───┘  │    │   │   │    │  └───┘»\n",
       "«     edge_anc_0: ─────────────────────────┼────┼───┼───┼────┼───────»\n",
       "«                                          │    │   │   │    │       »\n",
       "«     edge_anc_1: ─────────────────────────┼────┼───┼───┼────┼───────»\n",
       "«                                        ┌─┴─┐  │   │   │  ┌─┴─┐     »\n",
       "«cccx_diff_anc_0: ───────────────────────┤ X ├──■───┼───■──┤ X ├─────»\n",
       "«                                        └───┘┌─┴─┐ │ ┌─┴─┐└───┘     »\n",
       "«cccx_diff_anc_1: ────────────────────────────┤ X ├─■─┤ X ├──────────»\n",
       "«                                             └───┘   └───┘          »\n",
       "«   check_qubits: ───────────────────────────────────────────────────»\n",
       "«                                                                    »\n",
       "«    class_reg: 4/═══════════════════════════════════════════════════»\n",
       "«                                                                    »\n",
       "«     tri_flag: 3/═══════════════════════════════════════════════════»\n",
       "«                                                                    »\n",
       "«                 ┌─────────────┐┌─┐         \n",
       "«        nodes_0: ┤0            ├┤M├─────────\n",
       "«                 │             │└╥┘┌─┐      \n",
       "«        nodes_1: ┤1            ├─╫─┤M├──────\n",
       "«                 │  state_prep │ ║ └╥┘┌─┐   \n",
       "«        nodes_2: ┤2            ├─╫──╫─┤M├───\n",
       "«                 │             │ ║  ║ └╥┘┌─┐\n",
       "«        nodes_3: ┤3            ├─╫──╫──╫─┤M├\n",
       "«                 └─────────────┘ ║  ║  ║ └╥┘\n",
       "«     edge_anc_0: ────────────────╫──╫──╫──╫─\n",
       "«                                 ║  ║  ║  ║ \n",
       "«     edge_anc_1: ────────────────╫──╫──╫──╫─\n",
       "«                                 ║  ║  ║  ║ \n",
       "«cccx_diff_anc_0: ────────────────╫──╫──╫──╫─\n",
       "«                                 ║  ║  ║  ║ \n",
       "«cccx_diff_anc_1: ────────────────╫──╫──╫──╫─\n",
       "«                                 ║  ║  ║  ║ \n",
       "«   check_qubits: ────────────────╫──╫──╫──╫─\n",
       "«                                 ║  ║  ║  ║ \n",
       "«    class_reg: 4/════════════════╩══╩══╩══╩═\n",
       "«                                 0  1  2  3 \n",
       "«     tri_flag: 3/═══════════════════════════\n",
       "«                                            "
      ]
     },
     "execution_count": 268,
     "metadata": {},
     "output_type": "execute_result"
    }
   ],
   "source": [
    "qc = grover(n_nodes,stat_prep,inv_stat_prep)\n",
    "qc.draw()"
   ]
  },
  {
   "cell_type": "code",
   "execution_count": 271,
   "metadata": {},
   "outputs": [
    {
     "data": {
      "image/png": "[encoded data removed]",
      "text/plain": [
       "<Figure size 700x500 with 1 Axes>"
      ]
     },
     "execution_count": 271,
     "metadata": {},
     "output_type": "execute_result"
    }
   ],
   "source": [
    "# Simulate and plot results\n",
    "qasm_simulator = Aer.get_backend('qasm_simulator')\n",
    "#transpiled_qc = transpile(qc, qasm_simulator)\n",
    "# Execute circuit and show results\n",
    "ex = execute(qc, qasm_simulator, shots = 5000)\n",
    "res = ex.result().get_counts(qc)\n",
    "plot_histogram(res)"
   ]
  },
  {
   "attachments": {},
   "cell_type": "markdown",
   "metadata": {},
   "source": [
    "# Deutsh Jozsa Algorithm [Done]\n",
    "\n",
    "Following Textbook: https://learn.qiskit.org/course/ch-algorithms/deutsch-jozsa-algorithm"
   ]
  },
  {
   "cell_type": "code",
   "execution_count": 228,
   "metadata": {},
   "outputs": [],
   "source": [
    "# initialization\n",
    "import numpy as np\n",
    "\n",
    "# importing Qiskit\n",
    "from qiskit import IBMQ, Aer\n",
    "from qiskit.providers.ibmq import least_busy\n",
    "from qiskit import QuantumCircuit, transpile\n",
    "\n",
    "# import basic plot tools\n",
    "from qiskit.visualization import plot_histogram"
   ]
  },
  {
   "cell_type": "code",
   "execution_count": 229,
   "metadata": {},
   "outputs": [
    {
     "data": {
      "text/html": [
       "<pre style=\"word-wrap: normal;white-space: pre;background: #fff0;line-height: 1.1;font-family: &quot;Courier New&quot;,Courier,monospace\">          \n",
       "q_0: ─────\n",
       "          \n",
       "q_1: ─────\n",
       "          \n",
       "q_2: ─────\n",
       "     ┌───┐\n",
       "q_3: ┤ X ├\n",
       "     └───┘</pre>"
      ],
      "text/plain": [
       "          \n",
       "q_0: ─────\n",
       "          \n",
       "q_1: ─────\n",
       "          \n",
       "q_2: ─────\n",
       "     ┌───┐\n",
       "q_3: ┤ X ├\n",
       "     └───┘"
      ]
     },
     "execution_count": 229,
     "metadata": {},
     "output_type": "execute_result"
    }
   ],
   "source": [
    "# set the length of the n-bit input string. \n",
    "n = 3\n",
    "\n",
    "const_oracle = QuantumCircuit(n+1)\n",
    "\n",
    "output = np.random.randint(2)\n",
    "if output == 1:\n",
    "    const_oracle.x(n)\n",
    "\n",
    "const_oracle.draw()"
   ]
  },
  {
   "cell_type": "code",
   "execution_count": 230,
   "metadata": {},
   "outputs": [
    {
     "data": {
      "text/html": [
       "<pre style=\"word-wrap: normal;white-space: pre;background: #fff0;line-height: 1.1;font-family: &quot;Courier New&quot;,Courier,monospace\">     ┌───┐ ░                 ░ ┌───┐\n",
       "q_0: ┤ X ├─░───■─────────────░─┤ X ├\n",
       "     └───┘ ░   │             ░ └───┘\n",
       "q_1: ──────░───┼────■────────░──────\n",
       "     ┌───┐ ░   │    │        ░ ┌───┐\n",
       "q_2: ┤ X ├─░───┼────┼────■───░─┤ X ├\n",
       "     └───┘ ░ ┌─┴─┐┌─┴─┐┌─┴─┐ ░ └───┘\n",
       "q_3: ──────░─┤ X ├┤ X ├┤ X ├─░──────\n",
       "           ░ └───┘└───┘└───┘ ░      </pre>"
      ],
      "text/plain": [
       "     ┌───┐ ░                 ░ ┌───┐\n",
       "q_0: ┤ X ├─░───■─────────────░─┤ X ├\n",
       "     └───┘ ░   │             ░ └───┘\n",
       "q_1: ──────░───┼────■────────░──────\n",
       "     ┌───┐ ░   │    │        ░ ┌───┐\n",
       "q_2: ┤ X ├─░───┼────┼────■───░─┤ X ├\n",
       "     └───┘ ░ ┌─┴─┐┌─┴─┐┌─┴─┐ ░ └───┘\n",
       "q_3: ──────░─┤ X ├┤ X ├┤ X ├─░──────\n",
       "           ░ └───┘└───┘└───┘ ░      "
      ]
     },
     "execution_count": 230,
     "metadata": {},
     "output_type": "execute_result"
    }
   ],
   "source": [
    "balanced_oracle = QuantumCircuit(n+1)\n",
    "b_str = \"101\"\n",
    "\n",
    "# Place X-gates\n",
    "for qubit in range(len(b_str)):\n",
    "    if b_str[qubit] == '1':\n",
    "        balanced_oracle.x(qubit)\n",
    "\n",
    "# Use barrier as divider\n",
    "balanced_oracle.barrier()\n",
    "\n",
    "# Controlled-NOT gates\n",
    "for qubit in range(n):\n",
    "    balanced_oracle.cx(qubit, n)\n",
    "\n",
    "balanced_oracle.barrier()\n",
    "\n",
    "# Place X-gates\n",
    "for qubit in range(len(b_str)):\n",
    "    if b_str[qubit] == '1':\n",
    "        balanced_oracle.x(qubit)\n",
    "\n",
    "# Show oracle\n",
    "balanced_oracle.draw()"
   ]
  },
  {
   "attachments": {},
   "cell_type": "markdown",
   "metadata": {},
   "source": [
    "Full Algorithm"
   ]
  },
  {
   "cell_type": "code",
   "execution_count": 231,
   "metadata": {},
   "outputs": [
    {
     "data": {
      "text/html": [
       "<pre style=\"word-wrap: normal;white-space: pre;background: #fff0;line-height: 1.1;font-family: &quot;Courier New&quot;,Courier,monospace\">     ┌───┐┌───┐ ░                 ░ ┌───┐┌───┐ ░ ┌─┐      \n",
       "q_0: ┤ H ├┤ X ├─░───■─────────────░─┤ X ├┤ H ├─░─┤M├──────\n",
       "     ├───┤└───┘ ░   │             ░ ├───┤└───┘ ░ └╥┘┌─┐   \n",
       "q_1: ┤ H ├──────░───┼────■────────░─┤ H ├──────░──╫─┤M├───\n",
       "     ├───┤┌───┐ ░   │    │        ░ ├───┤┌───┐ ░  ║ └╥┘┌─┐\n",
       "q_2: ┤ H ├┤ X ├─░───┼────┼────■───░─┤ X ├┤ H ├─░──╫──╫─┤M├\n",
       "     ├───┤├───┤ ░ ┌─┴─┐┌─┴─┐┌─┴─┐ ░ └───┘└───┘ ░  ║  ║ └╥┘\n",
       "q_3: ┤ X ├┤ H ├─░─┤ X ├┤ X ├┤ X ├─░────────────░──╫──╫──╫─\n",
       "     └───┘└───┘ ░ └───┘└───┘└───┘ ░            ░  ║  ║  ║ \n",
       "c: 3/═════════════════════════════════════════════╩══╩══╩═\n",
       "                                                  0  1  2 </pre>"
      ],
      "text/plain": [
       "     ┌───┐┌───┐ ░                 ░ ┌───┐┌───┐ ░ ┌─┐      \n",
       "q_0: ┤ H ├┤ X ├─░───■─────────────░─┤ X ├┤ H ├─░─┤M├──────\n",
       "     ├───┤└───┘ ░   │             ░ ├───┤└───┘ ░ └╥┘┌─┐   \n",
       "q_1: ┤ H ├──────░───┼────■────────░─┤ H ├──────░──╫─┤M├───\n",
       "     ├───┤┌───┐ ░   │    │        ░ ├───┤┌───┐ ░  ║ └╥┘┌─┐\n",
       "q_2: ┤ H ├┤ X ├─░───┼────┼────■───░─┤ X ├┤ H ├─░──╫──╫─┤M├\n",
       "     ├───┤├───┤ ░ ┌─┴─┐┌─┴─┐┌─┴─┐ ░ └───┘└───┘ ░  ║  ║ └╥┘\n",
       "q_3: ┤ X ├┤ H ├─░─┤ X ├┤ X ├┤ X ├─░────────────░──╫──╫──╫─\n",
       "     └───┘└───┘ ░ └───┘└───┘└───┘ ░            ░  ║  ║  ║ \n",
       "c: 3/═════════════════════════════════════════════╩══╩══╩═\n",
       "                                                  0  1  2 "
      ]
     },
     "execution_count": 231,
     "metadata": {},
     "output_type": "execute_result"
    }
   ],
   "source": [
    "dj_circuit = QuantumCircuit(n+1, n)\n",
    "\n",
    "# Apply H-gates\n",
    "for qubit in range(n):\n",
    "    dj_circuit.h(qubit)\n",
    "\n",
    "# Put qubit in state |->\n",
    "dj_circuit.x(n)\n",
    "dj_circuit.h(n)\n",
    "\n",
    "# Add oracle\n",
    "dj_circuit = dj_circuit.compose(balanced_oracle)\n",
    "\n",
    "# Repeat H-gates\n",
    "for qubit in range(n):\n",
    "    dj_circuit.h(qubit)\n",
    "dj_circuit.barrier()\n",
    "\n",
    "# Measure\n",
    "for i in range(n):\n",
    "    dj_circuit.measure(i, i)\n",
    "\n",
    "# Display circuit\n",
    "dj_circuit.draw()"
   ]
  },
  {
   "cell_type": "code",
   "execution_count": 232,
   "metadata": {},
   "outputs": [
    {
     "data": {
      "image/png": "[encoded data removed]",
      "text/plain": [
       "<Figure size 700x500 with 1 Axes>"
      ]
     },
     "execution_count": 232,
     "metadata": {},
     "output_type": "execute_result"
    }
   ],
   "source": [
    "# use local simulator\n",
    "aer_sim = Aer.get_backend('aer_simulator')\n",
    "results = aer_sim.run(dj_circuit).result()\n",
    "answer = results.get_counts()\n",
    "\n",
    "plot_histogram(answer)"
   ]
  },
  {
   "attachments": {},
   "cell_type": "markdown",
   "metadata": {},
   "source": [
    "Generalized Circuits"
   ]
  },
  {
   "cell_type": "code",
   "execution_count": 233,
   "metadata": {},
   "outputs": [],
   "source": [
    "def dj_oracle(case, n):\n",
    "    # We need to make a QuantumCircuit object to return\n",
    "    # This circuit has n+1 qubits: the size of the input,\n",
    "    # plus one output qubit\n",
    "    oracle_qc = QuantumCircuit(n+1)\n",
    "    \n",
    "    # First, let's deal with the case in which oracle is balanced\n",
    "    if case == \"balanced\":\n",
    "        # First generate a random number that tells us which CNOTs to\n",
    "        # wrap in X-gates:\n",
    "        b = np.random.randint(1,2**n)\n",
    "        # Next, format 'b' as a binary string of length 'n', padded with zeros:\n",
    "        b_str = format(b, '0'+str(n)+'b')\n",
    "        # Next, we place the first X-gates. Each digit in our binary string \n",
    "        # corresponds to a qubit, if the digit is 0, we do nothing, if it's 1\n",
    "        # we apply an X-gate to that qubit:\n",
    "        for qubit in range(len(b_str)):\n",
    "            if b_str[qubit] == '1':\n",
    "                oracle_qc.x(qubit)\n",
    "        # Do the controlled-NOT gates for each qubit, using the output qubit \n",
    "        # as the target:\n",
    "        for qubit in range(n):\n",
    "            oracle_qc.cx(qubit, n)\n",
    "        # Next, place the final X-gates\n",
    "        for qubit in range(len(b_str)):\n",
    "            if b_str[qubit] == '1':\n",
    "                oracle_qc.x(qubit)\n",
    "\n",
    "    # Case in which oracle is constant\n",
    "    if case == \"constant\":\n",
    "        # First decide what the fixed output of the oracle will be\n",
    "        # (either always 0 or always 1)\n",
    "        output = np.random.randint(2)\n",
    "        if output == 1:\n",
    "            oracle_qc.x(n)\n",
    "    \n",
    "    oracle_gate = oracle_qc.to_gate()\n",
    "    oracle_gate.name = \"Oracle\" # To show when we display the circuit\n",
    "    return oracle_gate"
   ]
  },
  {
   "cell_type": "code",
   "execution_count": 234,
   "metadata": {},
   "outputs": [],
   "source": [
    "def dj_algorithm(oracle, n):\n",
    "    dj_circuit = QuantumCircuit(n+1, n)\n",
    "    # Set up the output qubit:\n",
    "    dj_circuit.x(n)\n",
    "    dj_circuit.h(n)\n",
    "    # And set up the input register:\n",
    "    for qubit in range(n):\n",
    "        dj_circuit.h(qubit)\n",
    "    # Let's append the oracle gate to our circuit:\n",
    "    dj_circuit.append(oracle, range(n+1))\n",
    "    # Finally, perform the H-gates again and measure:\n",
    "    for qubit in range(n):\n",
    "        dj_circuit.h(qubit)\n",
    "    \n",
    "    for i in range(n):\n",
    "        dj_circuit.measure(i, i)\n",
    "    \n",
    "    return dj_circuit"
   ]
  },
  {
   "cell_type": "code",
   "execution_count": 235,
   "metadata": {},
   "outputs": [
    {
     "data": {
      "text/html": [
       "<pre style=\"word-wrap: normal;white-space: pre;background: #fff0;line-height: 1.1;font-family: &quot;Courier New&quot;,Courier,monospace\">     ┌───┐     ┌─────────┐┌───┐┌─┐         \n",
       "q_0: ┤ H ├─────┤0        ├┤ H ├┤M├─────────\n",
       "     ├───┤     │         │├───┤└╥┘┌─┐      \n",
       "q_1: ┤ H ├─────┤1        ├┤ H ├─╫─┤M├──────\n",
       "     ├───┤     │         │├───┤ ║ └╥┘┌─┐   \n",
       "q_2: ┤ H ├─────┤2 Oracle ├┤ H ├─╫──╫─┤M├───\n",
       "     ├───┤     │         │├───┤ ║  ║ └╥┘┌─┐\n",
       "q_3: ┤ H ├─────┤3        ├┤ H ├─╫──╫──╫─┤M├\n",
       "     ├───┤┌───┐│         │└───┘ ║  ║  ║ └╥┘\n",
       "q_4: ┤ X ├┤ H ├┤4        ├──────╫──╫──╫──╫─\n",
       "     └───┘└───┘└─────────┘      ║  ║  ║  ║ \n",
       "c: 4/═══════════════════════════╩══╩══╩══╩═\n",
       "                                0  1  2  3 </pre>"
      ],
      "text/plain": [
       "     ┌───┐     ┌─────────┐┌───┐┌─┐         \n",
       "q_0: ┤ H ├─────┤0        ├┤ H ├┤M├─────────\n",
       "     ├───┤     │         │├───┤└╥┘┌─┐      \n",
       "q_1: ┤ H ├─────┤1        ├┤ H ├─╫─┤M├──────\n",
       "     ├───┤     │         │├───┤ ║ └╥┘┌─┐   \n",
       "q_2: ┤ H ├─────┤2 Oracle ├┤ H ├─╫──╫─┤M├───\n",
       "     ├───┤     │         │├───┤ ║  ║ └╥┘┌─┐\n",
       "q_3: ┤ H ├─────┤3        ├┤ H ├─╫──╫──╫─┤M├\n",
       "     ├───┤┌───┐│         │└───┘ ║  ║  ║ └╥┘\n",
       "q_4: ┤ X ├┤ H ├┤4        ├──────╫──╫──╫──╫─\n",
       "     └───┘└───┘└─────────┘      ║  ║  ║  ║ \n",
       "c: 4/═══════════════════════════╩══╩══╩══╩═\n",
       "                                0  1  2  3 "
      ]
     },
     "execution_count": 235,
     "metadata": {},
     "output_type": "execute_result"
    }
   ],
   "source": [
    "n = 4\n",
    "oracle_gate = dj_oracle('balanced', n)\n",
    "dj_circuit = dj_algorithm(oracle_gate, n)\n",
    "dj_circuit.draw()"
   ]
  },
  {
   "cell_type": "code",
   "execution_count": 236,
   "metadata": {},
   "outputs": [
    {
     "data": {
      "image/png": "[encoded data removed]",
      "text/plain": [
       "<Figure size 700x500 with 1 Axes>"
      ]
     },
     "execution_count": 236,
     "metadata": {},
     "output_type": "execute_result"
    }
   ],
   "source": [
    "transpiled_dj_circuit = transpile(dj_circuit, aer_sim)\n",
    "results = aer_sim.run(transpiled_dj_circuit).result()\n",
    "answer = results.get_counts()\n",
    "plot_histogram(answer)"
   ]
  },
  {
   "attachments": {},
   "cell_type": "markdown",
   "metadata": {},
   "source": [
    "## Problems"
   ]
  },
  {
   "attachments": {},
   "cell_type": "markdown",
   "metadata": {},
   "source": [
    "> 1. Are you able to create a balanced or constant oracle of a different form?\n",
    "\n",
    "Yes you can create different types of balanced or constant oracles. E.g. You can create a balanced oracle for a function that returns 1 for half of inputs and 0 for other half, but at a different pattern. For Constant oracles it always outputs the same value regardless of input, so there is less possible variation for how to implement that."
   ]
  },
  {
   "cell_type": "code",
   "execution_count": 237,
   "metadata": {},
   "outputs": [],
   "source": [
    "# Example of a balanced oracle that flips output qubit if input has odd number of ones\n",
    "\n",
    "def balanced_oracle(n):\n",
    "    oracle_qc = QuantumCircuit(n+1)\n",
    "    for qubit in range(n):\n",
    "        oracle_qc.cx(qubit, n)\n",
    "    oracle_gate = oracle_qc.to_gate()\n",
    "    oracle_gate.name = \"Balanced Oracle\"\n",
    "    return oracle_gate\n"
   ]
  },
  {
   "attachments": {},
   "cell_type": "markdown",
   "metadata": {},
   "source": [
    "2. The function dj_problem_oracle (below) returns a Deutsch-Jozsa oracle for n = 4 in the form of a gate. The gate takes 5 qubits as input where the final qubit (q_4) is the output qubit (as with the example oracles above). You can get different oracles by giving dj_problem_oracle different integers between 1 and 5. Use the Deutsch-Jozsa algorithm to decide whether each oracle is balanced or constant (Note: It is highly recommended you try this example using the aer_simulator instead of a real device)."
   ]
  },
  {
   "cell_type": "code",
   "execution_count": 238,
   "metadata": {},
   "outputs": [
    {
     "name": "stdout",
     "output_type": "stream",
     "text": [
      "Oracle 1 result distribution:\n",
      "{'1111': 1024}\n",
      "balanced\n",
      "\n",
      "\n",
      "Oracle 2 result distribution:\n",
      "{'0000': 1024}\n",
      "constant\n",
      "\n",
      "\n",
      "Oracle 3 result distribution:\n",
      "{'1111': 244, '0011': 278, '0001': 260, '1101': 242}\n",
      "balanced\n",
      "\n",
      "\n",
      "Oracle 4 result distribution:\n",
      "{'0100': 1024}\n",
      "balanced\n",
      "\n",
      "\n",
      "There are only currently 4 oracles in this problem set, returning empty (balanced) gate\n",
      "Oracle 5 result distribution:\n",
      "{'0000': 1024}\n",
      "constant\n",
      "\n",
      "\n"
     ]
    }
   ],
   "source": [
    "from qiskit_textbook.problems import dj_problem_oracle\n",
    "\n",
    "for i in range(1, 6):\n",
    "    oracle = dj_problem_oracle(i)\n",
    "    dj_circuit = dj_algorithm(oracle, n)\n",
    "    transpiled_dj_circuit = transpile(dj_circuit, aer_sim)\n",
    "    results = aer_sim.run(transpiled_dj_circuit).result()\n",
    "    answer = results.get_counts()\n",
    "    print(f\"Oracle {i} result distribution:\")\n",
    "    print(answer)\n",
    "    if '0'*n in answer:\n",
    "        print(f\"constant\")\n",
    "    else:\n",
    "        print(f\"balanced\")\n",
    "    print(\"\\n\")\n"
   ]
  }
 ],
 "metadata": {
  "kernelspec": {
   "display_name": "Python 3",
   "language": "python",
   "name": "python3"
  },
  "language_info": {
   "codemirror_mode": {
    "name": "ipython",
    "version": 3
   },
   "file_extension": ".py",
   "mimetype": "text/x-python",
   "name": "python",
   "nbconvert_exporter": "python",
   "pygments_lexer": "ipython3",
   "version": "3.9.13"
  },
  "orig_nbformat": 4
 },
 "nbformat": 4,
 "nbformat_minor": 2
}
